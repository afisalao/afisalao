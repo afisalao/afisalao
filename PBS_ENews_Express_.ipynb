{
  "cells": [
    {
      "cell_type": "markdown",
      "metadata": {
        "id": "6yDxo9u0d9Na"
      },
      "source": [
        "# Project Business Statistics: E-news Express\n",
        "\n",
      
      ],
      "id": "6yDxo9u0d9Na"
    },
    {
      "cell_type": "markdown",
      "metadata": {
        "id": "SrLd-ICEmPSD"
      },
      "source": [
        "## *Define Problem Statement and Objectives*"
      ],
      "id": "SrLd-ICEmPSD"
    },
    {
      "cell_type": "markdown",
      "metadata": {
        "id": "9Vt1PLLqmXNn"
      },
      "source": [
        "### **Description** \n",
        "\n",
        "**Business Context**\n",
        "\n",
        "The advent of e-news, or electronic news, portals has offered us a great opportunity to quickly get updates on the day-to-day events occurring globally. The information on these portals is retrieved electronically from online databases, processed using a variety of software, and then transmitted to the users. There are multiple advantages of transmitting new electronically, like faster access to the content and the ability to utilize different technologies such as audio, graphics, video, and other interactive elements that are either not being used or aren’t common yet in traditional newspapers.\n",
        "\n",
        "E-news Express, an online news portal, aims to expand its business by acquiring new subscribers. With every visitor to the website taking certain actions based on their interest, the company plans to analyze these actions to understand user interests and determine how to drive better engagement. The executives at E-news Express are of the opinion that there has been a decline in new monthly subscribers compared to the past year because the current webpage is not designed well enough in terms of the outline & recommended content to keep customers engaged long enough to make a decision to subscribe.\n",
        "\n",
        "[Companies often analyze user responses to two variants of a product to decide which of the two variants is more effective. This experimental technique, known as A/B testing, is used to determine whether a new feature attracts users based on a chosen metric.]\n",
        "\n",
        "**Objective**\n",
        "\n",
        "The design team of the company has researched and created a new landing page that has a new outline & more relevant content shown compared to the old page. In order to test the effectiveness of the new landing page in gathering new subscribers, the Data Science team conducted an experiment by randomly selecting 100 users and dividing them equally into two groups. The existing landing page was served to the first group (control group) and the new landing page to the second group (treatment group). Data regarding the interaction of users in both groups with the two versions of the landing page was collected. Being a data scientist in E-news Express, you have been asked to explore the data and perform a statistical analysis (at a significance level of 5%) to determine the effectiveness of the new landing page in gathering new subscribers for the news portal by answering the following questions:\n",
        "\n",
        "Do the users spend more time on the new landing page than on the existing landing page?\n",
        "Is the conversion rate (the proportion of users who visit the landing page and get converted) for the new page greater than the conversion rate for the old page?\n",
        "Does the converted status depend on the preferred language?\n",
        "Is the time spent on the new page the same for the different language users?\n",
        " \n",
        "\n",
        "**Data Dictionary**\n",
        "\n",
        "The data contains information regarding the interaction of users in both groups with the two versions of the landing page.\n",
        "\n",
        "\n",
        "\n",
        "1.   user_id - Unique user ID of the person visiting the website\n",
        "\n",
        "2.   group - Whether the user belongs to the first group (control) or the second group (treatment)\n",
        "\n",
        "3.  landing_page - Whether the landing page is new or old \n",
        "\n",
        "4.   time_spent_on_the_page - Time (in minutes) spent by the user on the landing page\n",
        "\n",
        "5.   converted - Whether the user gets converted to a subscriber of the news portal or not\n",
        "\n",
        "\n",
        "6.   language_preferred - Language chosen by the user to view the landing page\n",
        "\n",
        "\n",
        " "
      ],
      "id": "9Vt1PLLqmXNn"
    },
    {
      "cell_type": "markdown",
      "metadata": {
        "id": "a6a3d218"
      },
      "source": [
        "## Import all the necessary libraries"
      ],
      "id": "a6a3d218"
    },
    {
      "cell_type": "code",
      "execution_count": 1,
      "metadata": {
        "id": "658c5dec"
      },
      "outputs": [],
      "source": [
        "# import the required libraries\n",
        "import pandas as pd # library for data manipulation and analysis\n",
        "import numpy as np # library for working with arrays\n",
        "import matplotlib.pyplot as plt # library for plots and visualizations\n",
        "import seaborn as sns # library for visualizations\n",
        "\n",
        "%matplotlib inline\n",
        "\n",
        "import scipy.stats as stats # library for calculating probabilities"
      ],
      "id": "658c5dec"
    },
    {
      "cell_type": "markdown",
      "metadata": {
        "id": "6970dd99"
      },
      "source": [
        "## Reading the Data into a DataFrame"
      ],
      "id": "6970dd99"
    },
    {
      "cell_type": "code",
      "execution_count": 2,
      "metadata": {
        "colab": {
          "base_uri": "https://localhost:8080/"
        },
        "id": "FODWL_UuwQPQ",
        "outputId": "d151625a-30a5-4bae-982d-89f1f2ea8751"
      },
      "outputs": [
        {
          "output_type": "stream",
          "name": "stdout",
          "text": [
            "Mounted at /content/drive\n"
          ]
        }
      ],
      "source": [
        "# mount Google Drive to upload data from the drive\n",
        "from google.colab import drive\n",
        "drive.mount('/content/drive')"
      ],
      "id": "FODWL_UuwQPQ"
    },
    {
      "cell_type": "code",
      "execution_count": 3,
      "metadata": {
        "colab": {
          "base_uri": "https://localhost:8080/",
          "height": 419
        },
        "id": "d3b95640",
        "outputId": "d4f9034f-b0b2-4764-9336-91eab6f3a77d"
      },
      "outputs": [
        {
          "output_type": "execute_result",
          "data": {
            "text/plain": [
              "    user_id      group landing_page  time_spent_on_the_page converted  \\\n",
              "0    546592    control          old                    3.48        no   \n",
              "1    546468  treatment          new                    7.13       yes   \n",
              "2    546462  treatment          new                    4.40        no   \n",
              "3    546567    control          old                    3.02        no   \n",
              "4    546459  treatment          new                    4.75       yes   \n",
              "..      ...        ...          ...                     ...       ...   \n",
              "95   546446  treatment          new                    5.15        no   \n",
              "96   546544    control          old                    6.52       yes   \n",
              "97   546472  treatment          new                    7.07       yes   \n",
              "98   546481  treatment          new                    6.20       yes   \n",
              "99   546483  treatment          new                    5.86       yes   \n",
              "\n",
              "   language_preferred  \n",
              "0             Spanish  \n",
              "1             English  \n",
              "2             Spanish  \n",
              "3              French  \n",
              "4             Spanish  \n",
              "..                ...  \n",
              "95            Spanish  \n",
              "96            English  \n",
              "97            Spanish  \n",
              "98            Spanish  \n",
              "99            English  \n",
              "\n",
              "[100 rows x 6 columns]"
            ],
            "text/html": [
              "\n",
              "  <div id=\"df-5fcdac32-0e86-49f0-a4d5-4f6414aa5294\">\n",
              "    <div class=\"colab-df-container\">\n",
              "      <div>\n",
              "<style scoped>\n",
              "    .dataframe tbody tr th:only-of-type {\n",
              "        vertical-align: middle;\n",
              "    }\n",
              "\n",
              "    .dataframe tbody tr th {\n",
              "        vertical-align: top;\n",
              "    }\n",
              "\n",
              "    .dataframe thead th {\n",
              "        text-align: right;\n",
              "    }\n",
              "</style>\n",
              "<table border=\"1\" class=\"dataframe\">\n",
              "  <thead>\n",
              "    <tr style=\"text-align: right;\">\n",
              "      <th></th>\n",
              "      <th>user_id</th>\n",
              "      <th>group</th>\n",
              "      <th>landing_page</th>\n",
              "      <th>time_spent_on_the_page</th>\n",
              "      <th>converted</th>\n",
              "      <th>language_preferred</th>\n",
              "    </tr>\n",
              "  </thead>\n",
              "  <tbody>\n",
              "    <tr>\n",
              "      <th>0</th>\n",
              "      <td>546592</td>\n",
              "      <td>control</td>\n",
              "      <td>old</td>\n",
              "      <td>3.48</td>\n",
              "      <td>no</td>\n",
              "      <td>Spanish</td>\n",
              "    </tr>\n",
              "    <tr>\n",
              "      <th>1</th>\n",
              "      <td>546468</td>\n",
              "      <td>treatment</td>\n",
              "      <td>new</td>\n",
              "      <td>7.13</td>\n",
              "      <td>yes</td>\n",
              "      <td>English</td>\n",
              "    </tr>\n",
              "    <tr>\n",
              "      <th>2</th>\n",
              "      <td>546462</td>\n",
              "      <td>treatment</td>\n",
              "      <td>new</td>\n",
              "      <td>4.40</td>\n",
              "      <td>no</td>\n",
              "      <td>Spanish</td>\n",
              "    </tr>\n",
              "    <tr>\n",
              "      <th>3</th>\n",
              "      <td>546567</td>\n",
              "      <td>control</td>\n",
              "      <td>old</td>\n",
              "      <td>3.02</td>\n",
              "      <td>no</td>\n",
              "      <td>French</td>\n",
              "    </tr>\n",
              "    <tr>\n",
              "      <th>4</th>\n",
              "      <td>546459</td>\n",
              "      <td>treatment</td>\n",
              "      <td>new</td>\n",
              "      <td>4.75</td>\n",
              "      <td>yes</td>\n",
              "      <td>Spanish</td>\n",
              "    </tr>\n",
              "    <tr>\n",
              "      <th>...</th>\n",
              "      <td>...</td>\n",
              "      <td>...</td>\n",
              "      <td>...</td>\n",
              "      <td>...</td>\n",
              "      <td>...</td>\n",
              "      <td>...</td>\n",
              "    </tr>\n",
              "    <tr>\n",
              "      <th>95</th>\n",
              "      <td>546446</td>\n",
              "      <td>treatment</td>\n",
              "      <td>new</td>\n",
              "      <td>5.15</td>\n",
              "      <td>no</td>\n",
              "      <td>Spanish</td>\n",
              "    </tr>\n",
              "    <tr>\n",
              "      <th>96</th>\n",
              "      <td>546544</td>\n",
              "      <td>control</td>\n",
              "      <td>old</td>\n",
              "      <td>6.52</td>\n",
              "      <td>yes</td>\n",
              "      <td>English</td>\n",
              "    </tr>\n",
              "    <tr>\n",
              "      <th>97</th>\n",
              "      <td>546472</td>\n",
              "      <td>treatment</td>\n",
              "      <td>new</td>\n",
              "      <td>7.07</td>\n",
              "      <td>yes</td>\n",
              "      <td>Spanish</td>\n",
              "    </tr>\n",
              "    <tr>\n",
              "      <th>98</th>\n",
              "      <td>546481</td>\n",
              "      <td>treatment</td>\n",
              "      <td>new</td>\n",
              "      <td>6.20</td>\n",
              "      <td>yes</td>\n",
              "      <td>Spanish</td>\n",
              "    </tr>\n",
              "    <tr>\n",
              "      <th>99</th>\n",
              "      <td>546483</td>\n",
              "      <td>treatment</td>\n",
              "      <td>new</td>\n",
              "      <td>5.86</td>\n",
              "      <td>yes</td>\n",
              "      <td>English</td>\n",
              "    </tr>\n",
              "  </tbody>\n",
              "</table>\n",
              "<p>100 rows × 6 columns</p>\n",
              "</div>\n",
              "      <button class=\"colab-df-convert\" onclick=\"convertToInteractive('df-5fcdac32-0e86-49f0-a4d5-4f6414aa5294')\"\n",
              "              title=\"Convert this dataframe to an interactive table.\"\n",
              "              style=\"display:none;\">\n",
              "        \n",
              "  <svg xmlns=\"http://www.w3.org/2000/svg\" height=\"24px\"viewBox=\"0 0 24 24\"\n",
              "       width=\"24px\">\n",
              "    <path d=\"M0 0h24v24H0V0z\" fill=\"none\"/>\n",
              "    <path d=\"M18.56 5.44l.94 2.06.94-2.06 2.06-.94-2.06-.94-.94-2.06-.94 2.06-2.06.94zm-11 1L8.5 8.5l.94-2.06 2.06-.94-2.06-.94L8.5 2.5l-.94 2.06-2.06.94zm10 10l.94 2.06.94-2.06 2.06-.94-2.06-.94-.94-2.06-.94 2.06-2.06.94z\"/><path d=\"M17.41 7.96l-1.37-1.37c-.4-.4-.92-.59-1.43-.59-.52 0-1.04.2-1.43.59L10.3 9.45l-7.72 7.72c-.78.78-.78 2.05 0 2.83L4 21.41c.39.39.9.59 1.41.59.51 0 1.02-.2 1.41-.59l7.78-7.78 2.81-2.81c.8-.78.8-2.07 0-2.86zM5.41 20L4 18.59l7.72-7.72 1.47 1.35L5.41 20z\"/>\n",
              "  </svg>\n",
              "      </button>\n",
              "      \n",
              "  <style>\n",
              "    .colab-df-container {\n",
              "      display:flex;\n",
              "      flex-wrap:wrap;\n",
              "      gap: 12px;\n",
              "    }\n",
              "\n",
              "    .colab-df-convert {\n",
              "      background-color: #E8F0FE;\n",
              "      border: none;\n",
              "      border-radius: 50%;\n",
              "      cursor: pointer;\n",
              "      display: none;\n",
              "      fill: #1967D2;\n",
              "      height: 32px;\n",
              "      padding: 0 0 0 0;\n",
              "      width: 32px;\n",
              "    }\n",
              "\n",
              "    .colab-df-convert:hover {\n",
              "      background-color: #E2EBFA;\n",
              "      box-shadow: 0px 1px 2px rgba(60, 64, 67, 0.3), 0px 1px 3px 1px rgba(60, 64, 67, 0.15);\n",
              "      fill: #174EA6;\n",
              "    }\n",
              "\n",
              "    [theme=dark] .colab-df-convert {\n",
              "      background-color: #3B4455;\n",
              "      fill: #D2E3FC;\n",
              "    }\n",
              "\n",
              "    [theme=dark] .colab-df-convert:hover {\n",
              "      background-color: #434B5C;\n",
              "      box-shadow: 0px 1px 3px 1px rgba(0, 0, 0, 0.15);\n",
              "      filter: drop-shadow(0px 1px 2px rgba(0, 0, 0, 0.3));\n",
              "      fill: #FFFFFF;\n",
              "    }\n",
              "  </style>\n",
              "\n",
              "      <script>\n",
              "        const buttonEl =\n",
              "          document.querySelector('#df-5fcdac32-0e86-49f0-a4d5-4f6414aa5294 button.colab-df-convert');\n",
              "        buttonEl.style.display =\n",
              "          google.colab.kernel.accessAllowed ? 'block' : 'none';\n",
              "\n",
              "        async function convertToInteractive(key) {\n",
              "          const element = document.querySelector('#df-5fcdac32-0e86-49f0-a4d5-4f6414aa5294');\n",
              "          const dataTable =\n",
              "            await google.colab.kernel.invokeFunction('convertToInteractive',\n",
              "                                                     [key], {});\n",
              "          if (!dataTable) return;\n",
              "\n",
              "          const docLinkHtml = 'Like what you see? Visit the ' +\n",
              "            '<a target=\"_blank\" href=https://colab.research.google.com/notebooks/data_table.ipynb>data table notebook</a>'\n",
              "            + ' to learn more about interactive tables.';\n",
              "          element.innerHTML = '';\n",
              "          dataTable['output_type'] = 'display_data';\n",
              "          await google.colab.output.renderOutput(dataTable, element);\n",
              "          const docLink = document.createElement('div');\n",
              "          docLink.innerHTML = docLinkHtml;\n",
              "          element.appendChild(docLink);\n",
              "        }\n",
              "      </script>\n",
              "    </div>\n",
              "  </div>\n",
              "  "
            ]
          },
          "metadata": {},
          "execution_count": 3
        }
      ],
      "source": [
        "# downloading & reading the data\n",
        "pd.read_csv('/content/drive/MyDrive/DataSets/abtest.csv') "
      ],
      "id": "d3b95640"
    },
    {
      "cell_type": "code",
      "execution_count": 4,
      "metadata": {
        "id": "vHRwazC7ycgI"
      },
      "outputs": [],
      "source": [
        "# assigning the dataframe to a variable\n",
        "df_users = pd.read_csv('/content/drive/MyDrive/DataSets/abtest.csv') \n"
      ],
      "id": "vHRwazC7ycgI"
    },
    {
      "cell_type": "markdown",
      "metadata": {
        "id": "9d75cfa2"
      },
      "source": [
        "## Explore the dataset and extract insights using Exploratory Data Analysis"
      ],
      "id": "9d75cfa2"
    },
    {
      "cell_type": "markdown",
      "metadata": {
        "id": "27201534"
      },
      "source": [
        "- Data Overview\n",
        "  - Viewing the first and last few rows of the dataset\n",
        "  - Checking the shape of the dataset\n",
        "  - Getting the statistical summary for the variables\n",
        "- Check for missing values\n",
        "- Check for duplicates"
      ],
      "id": "27201534"
    },
    {
      "cell_type": "markdown",
      "metadata": {
        "id": "ywHolg2AyO1d"
      },
      "source": [
        "**Dataview**"
      ],
      "id": "ywHolg2AyO1d"
    },
    {
      "cell_type": "code",
      "execution_count": 5,
      "metadata": {
        "colab": {
          "base_uri": "https://localhost:8080/",
          "height": 204
        },
        "id": "-1rcy6anyOVM",
        "outputId": "505a712b-f9df-4a58-881d-c226fc53a0c0"
      },
      "outputs": [
        {
          "output_type": "execute_result",
          "data": {
            "text/plain": [
              "   user_id      group landing_page  time_spent_on_the_page converted  \\\n",
              "0   546592    control          old                    3.48        no   \n",
              "1   546468  treatment          new                    7.13       yes   \n",
              "2   546462  treatment          new                    4.40        no   \n",
              "3   546567    control          old                    3.02        no   \n",
              "4   546459  treatment          new                    4.75       yes   \n",
              "\n",
              "  language_preferred  \n",
              "0            Spanish  \n",
              "1            English  \n",
              "2            Spanish  \n",
              "3             French  \n",
              "4            Spanish  "
            ],
            "text/html": [
              "\n",
              "  <div id=\"df-459b97b4-b52f-4a8d-bae7-e50ec47b7762\">\n",
              "    <div class=\"colab-df-container\">\n",
              "      <div>\n",
              "<style scoped>\n",
              "    .dataframe tbody tr th:only-of-type {\n",
              "        vertical-align: middle;\n",
              "    }\n",
              "\n",
              "    .dataframe tbody tr th {\n",
              "        vertical-align: top;\n",
              "    }\n",
              "\n",
              "    .dataframe thead th {\n",
              "        text-align: right;\n",
              "    }\n",
              "</style>\n",
              "<table border=\"1\" class=\"dataframe\">\n",
              "  <thead>\n",
              "    <tr style=\"text-align: right;\">\n",
              "      <th></th>\n",
              "      <th>user_id</th>\n",
              "      <th>group</th>\n",
              "      <th>landing_page</th>\n",
              "      <th>time_spent_on_the_page</th>\n",
              "      <th>converted</th>\n",
              "      <th>language_preferred</th>\n",
              "    </tr>\n",
              "  </thead>\n",
              "  <tbody>\n",
              "    <tr>\n",
              "      <th>0</th>\n",
              "      <td>546592</td>\n",
              "      <td>control</td>\n",
              "      <td>old</td>\n",
              "      <td>3.48</td>\n",
              "      <td>no</td>\n",
              "      <td>Spanish</td>\n",
              "    </tr>\n",
              "    <tr>\n",
              "      <th>1</th>\n",
              "      <td>546468</td>\n",
              "      <td>treatment</td>\n",
              "      <td>new</td>\n",
              "      <td>7.13</td>\n",
              "      <td>yes</td>\n",
              "      <td>English</td>\n",
              "    </tr>\n",
              "    <tr>\n",
              "      <th>2</th>\n",
              "      <td>546462</td>\n",
              "      <td>treatment</td>\n",
              "      <td>new</td>\n",
              "      <td>4.40</td>\n",
              "      <td>no</td>\n",
              "      <td>Spanish</td>\n",
              "    </tr>\n",
              "    <tr>\n",
              "      <th>3</th>\n",
              "      <td>546567</td>\n",
              "      <td>control</td>\n",
              "      <td>old</td>\n",
              "      <td>3.02</td>\n",
              "      <td>no</td>\n",
              "      <td>French</td>\n",
              "    </tr>\n",
              "    <tr>\n",
              "      <th>4</th>\n",
              "      <td>546459</td>\n",
              "      <td>treatment</td>\n",
              "      <td>new</td>\n",
              "      <td>4.75</td>\n",
              "      <td>yes</td>\n",
              "      <td>Spanish</td>\n",
              "    </tr>\n",
              "  </tbody>\n",
              "</table>\n",
              "</div>\n",
              "      <button class=\"colab-df-convert\" onclick=\"convertToInteractive('df-459b97b4-b52f-4a8d-bae7-e50ec47b7762')\"\n",
              "              title=\"Convert this dataframe to an interactive table.\"\n",
              "              style=\"display:none;\">\n",
              "        \n",
              "  <svg xmlns=\"http://www.w3.org/2000/svg\" height=\"24px\"viewBox=\"0 0 24 24\"\n",
              "       width=\"24px\">\n",
              "    <path d=\"M0 0h24v24H0V0z\" fill=\"none\"/>\n",
              "    <path d=\"M18.56 5.44l.94 2.06.94-2.06 2.06-.94-2.06-.94-.94-2.06-.94 2.06-2.06.94zm-11 1L8.5 8.5l.94-2.06 2.06-.94-2.06-.94L8.5 2.5l-.94 2.06-2.06.94zm10 10l.94 2.06.94-2.06 2.06-.94-2.06-.94-.94-2.06-.94 2.06-2.06.94z\"/><path d=\"M17.41 7.96l-1.37-1.37c-.4-.4-.92-.59-1.43-.59-.52 0-1.04.2-1.43.59L10.3 9.45l-7.72 7.72c-.78.78-.78 2.05 0 2.83L4 21.41c.39.39.9.59 1.41.59.51 0 1.02-.2 1.41-.59l7.78-7.78 2.81-2.81c.8-.78.8-2.07 0-2.86zM5.41 20L4 18.59l7.72-7.72 1.47 1.35L5.41 20z\"/>\n",
              "  </svg>\n",
              "      </button>\n",
              "      \n",
              "  <style>\n",
              "    .colab-df-container {\n",
              "      display:flex;\n",
              "      flex-wrap:wrap;\n",
              "      gap: 12px;\n",
              "    }\n",
              "\n",
              "    .colab-df-convert {\n",
              "      background-color: #E8F0FE;\n",
              "      border: none;\n",
              "      border-radius: 50%;\n",
              "      cursor: pointer;\n",
              "      display: none;\n",
              "      fill: #1967D2;\n",
              "      height: 32px;\n",
              "      padding: 0 0 0 0;\n",
              "      width: 32px;\n",
              "    }\n",
              "\n",
              "    .colab-df-convert:hover {\n",
              "      background-color: #E2EBFA;\n",
              "      box-shadow: 0px 1px 2px rgba(60, 64, 67, 0.3), 0px 1px 3px 1px rgba(60, 64, 67, 0.15);\n",
              "      fill: #174EA6;\n",
              "    }\n",
              "\n",
              "    [theme=dark] .colab-df-convert {\n",
              "      background-color: #3B4455;\n",
              "      fill: #D2E3FC;\n",
              "    }\n",
              "\n",
              "    [theme=dark] .colab-df-convert:hover {\n",
              "      background-color: #434B5C;\n",
              "      box-shadow: 0px 1px 3px 1px rgba(0, 0, 0, 0.15);\n",
              "      filter: drop-shadow(0px 1px 2px rgba(0, 0, 0, 0.3));\n",
              "      fill: #FFFFFF;\n",
              "    }\n",
              "  </style>\n",
              "\n",
              "      <script>\n",
              "        const buttonEl =\n",
              "          document.querySelector('#df-459b97b4-b52f-4a8d-bae7-e50ec47b7762 button.colab-df-convert');\n",
              "        buttonEl.style.display =\n",
              "          google.colab.kernel.accessAllowed ? 'block' : 'none';\n",
              "\n",
              "        async function convertToInteractive(key) {\n",
              "          const element = document.querySelector('#df-459b97b4-b52f-4a8d-bae7-e50ec47b7762');\n",
              "          const dataTable =\n",
              "            await google.colab.kernel.invokeFunction('convertToInteractive',\n",
              "                                                     [key], {});\n",
              "          if (!dataTable) return;\n",
              "\n",
              "          const docLinkHtml = 'Like what you see? Visit the ' +\n",
              "            '<a target=\"_blank\" href=https://colab.research.google.com/notebooks/data_table.ipynb>data table notebook</a>'\n",
              "            + ' to learn more about interactive tables.';\n",
              "          element.innerHTML = '';\n",
              "          dataTable['output_type'] = 'display_data';\n",
              "          await google.colab.output.renderOutput(dataTable, element);\n",
              "          const docLink = document.createElement('div');\n",
              "          docLink.innerHTML = docLinkHtml;\n",
              "          element.appendChild(docLink);\n",
              "        }\n",
              "      </script>\n",
              "    </div>\n",
              "  </div>\n",
              "  "
            ]
          },
          "metadata": {},
          "execution_count": 5
        }
      ],
      "source": [
        "# checking the first few rows of the dataset\n",
        "df_users.head()"
      ],
      "id": "-1rcy6anyOVM"
    },
    {
      "cell_type": "code",
      "execution_count": 6,
      "metadata": {
        "colab": {
          "base_uri": "https://localhost:8080/",
          "height": 204
        },
        "id": "e1ad11d4",
        "outputId": "70dba3b9-e0aa-4a0f-f54a-01fbda25b86e"
      },
      "outputs": [
        {
          "output_type": "execute_result",
          "data": {
            "text/plain": [
              "    user_id      group landing_page  time_spent_on_the_page converted  \\\n",
              "95   546446  treatment          new                    5.15        no   \n",
              "96   546544    control          old                    6.52       yes   \n",
              "97   546472  treatment          new                    7.07       yes   \n",
              "98   546481  treatment          new                    6.20       yes   \n",
              "99   546483  treatment          new                    5.86       yes   \n",
              "\n",
              "   language_preferred  \n",
              "95            Spanish  \n",
              "96            English  \n",
              "97            Spanish  \n",
              "98            Spanish  \n",
              "99            English  "
            ],
            "text/html": [
              "\n",
              "  <div id=\"df-27f6b871-3564-46c2-bcc5-332afc0c5031\">\n",
              "    <div class=\"colab-df-container\">\n",
              "      <div>\n",
              "<style scoped>\n",
              "    .dataframe tbody tr th:only-of-type {\n",
              "        vertical-align: middle;\n",
              "    }\n",
              "\n",
              "    .dataframe tbody tr th {\n",
              "        vertical-align: top;\n",
              "    }\n",
              "\n",
              "    .dataframe thead th {\n",
              "        text-align: right;\n",
              "    }\n",
              "</style>\n",
              "<table border=\"1\" class=\"dataframe\">\n",
              "  <thead>\n",
              "    <tr style=\"text-align: right;\">\n",
              "      <th></th>\n",
              "      <th>user_id</th>\n",
              "      <th>group</th>\n",
              "      <th>landing_page</th>\n",
              "      <th>time_spent_on_the_page</th>\n",
              "      <th>converted</th>\n",
              "      <th>language_preferred</th>\n",
              "    </tr>\n",
              "  </thead>\n",
              "  <tbody>\n",
              "    <tr>\n",
              "      <th>95</th>\n",
              "      <td>546446</td>\n",
              "      <td>treatment</td>\n",
              "      <td>new</td>\n",
              "      <td>5.15</td>\n",
              "      <td>no</td>\n",
              "      <td>Spanish</td>\n",
              "    </tr>\n",
              "    <tr>\n",
              "      <th>96</th>\n",
              "      <td>546544</td>\n",
              "      <td>control</td>\n",
              "      <td>old</td>\n",
              "      <td>6.52</td>\n",
              "      <td>yes</td>\n",
              "      <td>English</td>\n",
              "    </tr>\n",
              "    <tr>\n",
              "      <th>97</th>\n",
              "      <td>546472</td>\n",
              "      <td>treatment</td>\n",
              "      <td>new</td>\n",
              "      <td>7.07</td>\n",
              "      <td>yes</td>\n",
              "      <td>Spanish</td>\n",
              "    </tr>\n",
              "    <tr>\n",
              "      <th>98</th>\n",
              "      <td>546481</td>\n",
              "      <td>treatment</td>\n",
              "      <td>new</td>\n",
              "      <td>6.20</td>\n",
              "      <td>yes</td>\n",
              "      <td>Spanish</td>\n",
              "    </tr>\n",
              "    <tr>\n",
              "      <th>99</th>\n",
              "      <td>546483</td>\n",
              "      <td>treatment</td>\n",
              "      <td>new</td>\n",
              "      <td>5.86</td>\n",
              "      <td>yes</td>\n",
              "      <td>English</td>\n",
              "    </tr>\n",
              "  </tbody>\n",
              "</table>\n",
              "</div>\n",
              "      <button class=\"colab-df-convert\" onclick=\"convertToInteractive('df-27f6b871-3564-46c2-bcc5-332afc0c5031')\"\n",
              "              title=\"Convert this dataframe to an interactive table.\"\n",
              "              style=\"display:none;\">\n",
              "        \n",
              "  <svg xmlns=\"http://www.w3.org/2000/svg\" height=\"24px\"viewBox=\"0 0 24 24\"\n",
              "       width=\"24px\">\n",
              "    <path d=\"M0 0h24v24H0V0z\" fill=\"none\"/>\n",
              "    <path d=\"M18.56 5.44l.94 2.06.94-2.06 2.06-.94-2.06-.94-.94-2.06-.94 2.06-2.06.94zm-11 1L8.5 8.5l.94-2.06 2.06-.94-2.06-.94L8.5 2.5l-.94 2.06-2.06.94zm10 10l.94 2.06.94-2.06 2.06-.94-2.06-.94-.94-2.06-.94 2.06-2.06.94z\"/><path d=\"M17.41 7.96l-1.37-1.37c-.4-.4-.92-.59-1.43-.59-.52 0-1.04.2-1.43.59L10.3 9.45l-7.72 7.72c-.78.78-.78 2.05 0 2.83L4 21.41c.39.39.9.59 1.41.59.51 0 1.02-.2 1.41-.59l7.78-7.78 2.81-2.81c.8-.78.8-2.07 0-2.86zM5.41 20L4 18.59l7.72-7.72 1.47 1.35L5.41 20z\"/>\n",
              "  </svg>\n",
              "      </button>\n",
              "      \n",
              "  <style>\n",
              "    .colab-df-container {\n",
              "      display:flex;\n",
              "      flex-wrap:wrap;\n",
              "      gap: 12px;\n",
              "    }\n",
              "\n",
              "    .colab-df-convert {\n",
              "      background-color: #E8F0FE;\n",
              "      border: none;\n",
              "      border-radius: 50%;\n",
              "      cursor: pointer;\n",
              "      display: none;\n",
              "      fill: #1967D2;\n",
              "      height: 32px;\n",
              "      padding: 0 0 0 0;\n",
              "      width: 32px;\n",
              "    }\n",
              "\n",
              "    .colab-df-convert:hover {\n",
              "      background-color: #E2EBFA;\n",
              "      box-shadow: 0px 1px 2px rgba(60, 64, 67, 0.3), 0px 1px 3px 1px rgba(60, 64, 67, 0.15);\n",
              "      fill: #174EA6;\n",
              "    }\n",
              "\n",
              "    [theme=dark] .colab-df-convert {\n",
              "      background-color: #3B4455;\n",
              "      fill: #D2E3FC;\n",
              "    }\n",
              "\n",
              "    [theme=dark] .colab-df-convert:hover {\n",
              "      background-color: #434B5C;\n",
              "      box-shadow: 0px 1px 3px 1px rgba(0, 0, 0, 0.15);\n",
              "      filter: drop-shadow(0px 1px 2px rgba(0, 0, 0, 0.3));\n",
              "      fill: #FFFFFF;\n",
              "    }\n",
              "  </style>\n",
              "\n",
              "      <script>\n",
              "        const buttonEl =\n",
              "          document.querySelector('#df-27f6b871-3564-46c2-bcc5-332afc0c5031 button.colab-df-convert');\n",
              "        buttonEl.style.display =\n",
              "          google.colab.kernel.accessAllowed ? 'block' : 'none';\n",
              "\n",
              "        async function convertToInteractive(key) {\n",
              "          const element = document.querySelector('#df-27f6b871-3564-46c2-bcc5-332afc0c5031');\n",
              "          const dataTable =\n",
              "            await google.colab.kernel.invokeFunction('convertToInteractive',\n",
              "                                                     [key], {});\n",
              "          if (!dataTable) return;\n",
              "\n",
              "          const docLinkHtml = 'Like what you see? Visit the ' +\n",
              "            '<a target=\"_blank\" href=https://colab.research.google.com/notebooks/data_table.ipynb>data table notebook</a>'\n",
              "            + ' to learn more about interactive tables.';\n",
              "          element.innerHTML = '';\n",
              "          dataTable['output_type'] = 'display_data';\n",
              "          await google.colab.output.renderOutput(dataTable, element);\n",
              "          const docLink = document.createElement('div');\n",
              "          docLink.innerHTML = docLinkHtml;\n",
              "          element.appendChild(docLink);\n",
              "        }\n",
              "      </script>\n",
              "    </div>\n",
              "  </div>\n",
              "  "
            ]
          },
          "metadata": {},
          "execution_count": 6
        }
      ],
      "source": [
        "# checking the last rows of the dataset\n",
        "df_users.tail()"
      ],
      "id": "e1ad11d4"
    },
    {
      "cell_type": "code",
      "execution_count": 7,
      "metadata": {
        "colab": {
          "base_uri": "https://localhost:8080/"
        },
        "id": "3n3-Xnij3xFP",
        "outputId": "9e8949a1-5b33-4220-f793-134c5ac938ff"
      },
      "outputs": [
        {
          "output_type": "stream",
          "name": "stdout",
          "text": [
            "<class 'pandas.core.frame.DataFrame'>\n",
            "RangeIndex: 100 entries, 0 to 99\n",
            "Data columns (total 6 columns):\n",
            " #   Column                  Non-Null Count  Dtype  \n",
            "---  ------                  --------------  -----  \n",
            " 0   user_id                 100 non-null    int64  \n",
            " 1   group                   100 non-null    object \n",
            " 2   landing_page            100 non-null    object \n",
            " 3   time_spent_on_the_page  100 non-null    float64\n",
            " 4   converted               100 non-null    object \n",
            " 5   language_preferred      100 non-null    object \n",
            "dtypes: float64(1), int64(1), object(4)\n",
            "memory usage: 4.8+ KB\n"
          ]
        }
      ],
      "source": [
        "# checking the summary of the datasets\n",
        "df_users.info()"
      ],
      "id": "3n3-Xnij3xFP"
    },
    {
      "cell_type": "code",
      "execution_count": 8,
      "metadata": {
        "colab": {
          "base_uri": "https://localhost:8080/"
        },
        "id": "sY3HqYaB1zzC",
        "outputId": "a1d37d19-aa0a-4c2b-edff-86263981b815"
      },
      "outputs": [
        {
          "output_type": "execute_result",
          "data": {
            "text/plain": [
              "(100, 6)"
            ]
          },
          "metadata": {},
          "execution_count": 8
        }
      ],
      "source": [
        "# checking the shape of the dataset\n",
        "df_users.shape"
      ],
      "id": "sY3HqYaB1zzC"
    },
    {
      "cell_type": "code",
      "execution_count": 9,
      "metadata": {
        "colab": {
          "base_uri": "https://localhost:8080/",
          "height": 111
        },
        "id": "g7riAFYz02xW",
        "outputId": "6e579b91-853c-4807-b4ce-b591d45f73da"
      },
      "outputs": [
        {
          "output_type": "execute_result",
          "data": {
            "text/plain": [
              "                        count         mean        std        min        25%  \\\n",
              "user_id                 100.0  546517.0000  52.295779  546443.00  546467.75   \n",
              "time_spent_on_the_page  100.0       5.3778   2.378166       0.19       3.88   \n",
              "\n",
              "                               50%          75%        max  \n",
              "user_id                 546492.500  546567.2500  546592.00  \n",
              "time_spent_on_the_page       5.415       7.0225      10.71  "
            ],
            "text/html": [
              "\n",
              "  <div id=\"df-113e5ccd-037a-488a-81b7-41e8e0b0991c\">\n",
              "    <div class=\"colab-df-container\">\n",
              "      <div>\n",
              "<style scoped>\n",
              "    .dataframe tbody tr th:only-of-type {\n",
              "        vertical-align: middle;\n",
              "    }\n",
              "\n",
              "    .dataframe tbody tr th {\n",
              "        vertical-align: top;\n",
              "    }\n",
              "\n",
              "    .dataframe thead th {\n",
              "        text-align: right;\n",
              "    }\n",
              "</style>\n",
              "<table border=\"1\" class=\"dataframe\">\n",
              "  <thead>\n",
              "    <tr style=\"text-align: right;\">\n",
              "      <th></th>\n",
              "      <th>count</th>\n",
              "      <th>mean</th>\n",
              "      <th>std</th>\n",
              "      <th>min</th>\n",
              "      <th>25%</th>\n",
              "      <th>50%</th>\n",
              "      <th>75%</th>\n",
              "      <th>max</th>\n",
              "    </tr>\n",
              "  </thead>\n",
              "  <tbody>\n",
              "    <tr>\n",
              "      <th>user_id</th>\n",
              "      <td>100.0</td>\n",
              "      <td>546517.0000</td>\n",
              "      <td>52.295779</td>\n",
              "      <td>546443.00</td>\n",
              "      <td>546467.75</td>\n",
              "      <td>546492.500</td>\n",
              "      <td>546567.2500</td>\n",
              "      <td>546592.00</td>\n",
              "    </tr>\n",
              "    <tr>\n",
              "      <th>time_spent_on_the_page</th>\n",
              "      <td>100.0</td>\n",
              "      <td>5.3778</td>\n",
              "      <td>2.378166</td>\n",
              "      <td>0.19</td>\n",
              "      <td>3.88</td>\n",
              "      <td>5.415</td>\n",
              "      <td>7.0225</td>\n",
              "      <td>10.71</td>\n",
              "    </tr>\n",
              "  </tbody>\n",
              "</table>\n",
              "</div>\n",
              "      <button class=\"colab-df-convert\" onclick=\"convertToInteractive('df-113e5ccd-037a-488a-81b7-41e8e0b0991c')\"\n",
              "              title=\"Convert this dataframe to an interactive table.\"\n",
              "              style=\"display:none;\">\n",
              "        \n",
              "  <svg xmlns=\"http://www.w3.org/2000/svg\" height=\"24px\"viewBox=\"0 0 24 24\"\n",
              "       width=\"24px\">\n",
              "    <path d=\"M0 0h24v24H0V0z\" fill=\"none\"/>\n",
              "    <path d=\"M18.56 5.44l.94 2.06.94-2.06 2.06-.94-2.06-.94-.94-2.06-.94 2.06-2.06.94zm-11 1L8.5 8.5l.94-2.06 2.06-.94-2.06-.94L8.5 2.5l-.94 2.06-2.06.94zm10 10l.94 2.06.94-2.06 2.06-.94-2.06-.94-.94-2.06-.94 2.06-2.06.94z\"/><path d=\"M17.41 7.96l-1.37-1.37c-.4-.4-.92-.59-1.43-.59-.52 0-1.04.2-1.43.59L10.3 9.45l-7.72 7.72c-.78.78-.78 2.05 0 2.83L4 21.41c.39.39.9.59 1.41.59.51 0 1.02-.2 1.41-.59l7.78-7.78 2.81-2.81c.8-.78.8-2.07 0-2.86zM5.41 20L4 18.59l7.72-7.72 1.47 1.35L5.41 20z\"/>\n",
              "  </svg>\n",
              "      </button>\n",
              "      \n",
              "  <style>\n",
              "    .colab-df-container {\n",
              "      display:flex;\n",
              "      flex-wrap:wrap;\n",
              "      gap: 12px;\n",
              "    }\n",
              "\n",
              "    .colab-df-convert {\n",
              "      background-color: #E8F0FE;\n",
              "      border: none;\n",
              "      border-radius: 50%;\n",
              "      cursor: pointer;\n",
              "      display: none;\n",
              "      fill: #1967D2;\n",
              "      height: 32px;\n",
              "      padding: 0 0 0 0;\n",
              "      width: 32px;\n",
              "    }\n",
              "\n",
              "    .colab-df-convert:hover {\n",
              "      background-color: #E2EBFA;\n",
              "      box-shadow: 0px 1px 2px rgba(60, 64, 67, 0.3), 0px 1px 3px 1px rgba(60, 64, 67, 0.15);\n",
              "      fill: #174EA6;\n",
              "    }\n",
              "\n",
              "    [theme=dark] .colab-df-convert {\n",
              "      background-color: #3B4455;\n",
              "      fill: #D2E3FC;\n",
              "    }\n",
              "\n",
              "    [theme=dark] .colab-df-convert:hover {\n",
              "      background-color: #434B5C;\n",
              "      box-shadow: 0px 1px 3px 1px rgba(0, 0, 0, 0.15);\n",
              "      filter: drop-shadow(0px 1px 2px rgba(0, 0, 0, 0.3));\n",
              "      fill: #FFFFFF;\n",
              "    }\n",
              "  </style>\n",
              "\n",
              "      <script>\n",
              "        const buttonEl =\n",
              "          document.querySelector('#df-113e5ccd-037a-488a-81b7-41e8e0b0991c button.colab-df-convert');\n",
              "        buttonEl.style.display =\n",
              "          google.colab.kernel.accessAllowed ? 'block' : 'none';\n",
              "\n",
              "        async function convertToInteractive(key) {\n",
              "          const element = document.querySelector('#df-113e5ccd-037a-488a-81b7-41e8e0b0991c');\n",
              "          const dataTable =\n",
              "            await google.colab.kernel.invokeFunction('convertToInteractive',\n",
              "                                                     [key], {});\n",
              "          if (!dataTable) return;\n",
              "\n",
              "          const docLinkHtml = 'Like what you see? Visit the ' +\n",
              "            '<a target=\"_blank\" href=https://colab.research.google.com/notebooks/data_table.ipynb>data table notebook</a>'\n",
              "            + ' to learn more about interactive tables.';\n",
              "          element.innerHTML = '';\n",
              "          dataTable['output_type'] = 'display_data';\n",
              "          await google.colab.output.renderOutput(dataTable, element);\n",
              "          const docLink = document.createElement('div');\n",
              "          docLink.innerHTML = docLinkHtml;\n",
              "          element.appendChild(docLink);\n",
              "        }\n",
              "      </script>\n",
              "    </div>\n",
              "  </div>\n",
              "  "
            ]
          },
          "metadata": {},
          "execution_count": 9
        }
      ],
      "source": [
        "# checking for the statistical summary of variables in the dataset\n",
        "df_users.describe().T"
      ],
      "id": "g7riAFYz02xW"
    },
    {
      "cell_type": "code",
      "execution_count": 10,
      "metadata": {
        "colab": {
          "base_uri": "https://localhost:8080/"
        },
        "id": "UU9x9Kih1IFo",
        "outputId": "ad051130-4fc0-4bde-dc3b-3545f8e4d387"
      },
      "outputs": [
        {
          "output_type": "execute_result",
          "data": {
            "text/plain": [
              "user_id                   0\n",
              "group                     0\n",
              "landing_page              0\n",
              "time_spent_on_the_page    0\n",
              "converted                 0\n",
              "language_preferred        0\n",
              "dtype: int64"
            ]
          },
          "metadata": {},
          "execution_count": 10
        }
      ],
      "source": [
        "# checking for missing values in the dataset\n",
        "df_users.isnull().sum()\n"
      ],
      "id": "UU9x9Kih1IFo"
    },
    {
      "cell_type": "code",
      "execution_count": 11,
      "metadata": {
        "colab": {
          "base_uri": "https://localhost:8080/"
        },
        "id": "ygMqoXmV1Kfp",
        "outputId": "26442097-6640-4dfb-adeb-cc42f09fab0c"
      },
      "outputs": [
        {
          "output_type": "execute_result",
          "data": {
            "text/plain": [
              "0"
            ]
          },
          "metadata": {},
          "execution_count": 11
        }
      ],
      "source": [
        "# checking for duplicate values in the dataset\n",
        "df_users.duplicated().sum()"
      ],
      "id": "ygMqoXmV1Kfp"
    },
    {
      "cell_type": "markdown",
      "metadata": {
        "id": "n1RflCGv2efi"
      },
      "source": [
        "**Observations:**\n",
        "\n",
        "According to the data, there are 6 columns and 100 rows in the datasets. \n",
        "\n",
        "There are no missing values in the dataset.\n",
        "\n",
        "The data has no duplicated values as well.\n",
        "\n",
        "The average duration spent on a both old and new pages is 5.13 minutes, with the minimum and maximum times being 0.19 minutes and 11 minutes, respectively."
      ],
      "id": "n1RflCGv2efi"
    },
    {
      "cell_type": "markdown",
      "metadata": {
        "id": "68f3b2c9"
      },
      "source": [
        "### Univariate Analysis"
      ],
      "id": "68f3b2c9"
    },
    {
      "cell_type": "markdown",
      "metadata": {
        "id": "P417swYkafdn"
      },
      "source": [
        "To determine the number of visitors for each component of the column, create a list of category data and loop through the list."
      ],
      "id": "P417swYkafdn"
    },
    {
      "cell_type": "code",
      "execution_count": 12,
      "metadata": {
        "colab": {
          "base_uri": "https://localhost:8080/"
        },
        "id": "1932d0f3",
        "outputId": "5fdd510e-b0fd-439d-e147-e17fbc8793b9"
      },
      "outputs": [
        {
          "output_type": "stream",
          "name": "stdout",
          "text": [
            "control      50\n",
            "treatment    50\n",
            "Name: group, dtype: int64\n",
            "--------------------------------------------------\n",
            "old    50\n",
            "new    50\n",
            "Name: landing_page, dtype: int64\n",
            "--------------------------------------------------\n",
            "yes    54\n",
            "no     46\n",
            "Name: converted, dtype: int64\n",
            "--------------------------------------------------\n",
            "Spanish    34\n",
            "French     34\n",
            "English    32\n",
            "Name: language_preferred, dtype: int64\n",
            "--------------------------------------------------\n"
          ]
        }
      ],
      "source": [
        "users_cat = ['group', 'landing_page', 'converted', 'language_preferred']\n",
        "\n",
        "for column in users_cat:\n",
        "    print(df_users[column].value_counts())\n",
        "    print('-' * 50)"
      ],
      "id": "1932d0f3"
    },
    {
      "cell_type": "markdown",
      "metadata": {
        "id": "Qrwu2_wyZzuX"
      },
      "source": [
        "**Observations**\n",
        "\n",
        "There are two groups: a control group and a treatment group, each with 50 users.\n",
        "\n",
        "Each of the two landing pages has 50 users, both existing and new.\n",
        "\n",
        "There are 46 users who did not convert and 54 users who did.\n",
        "\n",
        "32 people preferred English, 34 people preferred Spanish, and 34 people preferred French.\n"
      ],
      "id": "Qrwu2_wyZzuX"
    },
    {
      "cell_type": "markdown",
      "metadata": {
        "id": "1_-OWAhpg9Hu"
      },
      "source": [
        "**Observation of Time Spent on the Page**"
      ],
      "id": "1_-OWAhpg9Hu"
    },
    {
      "cell_type": "code",
      "execution_count": 13,
      "metadata": {
        "colab": {
          "base_uri": "https://localhost:8080/",
          "height": 573
        },
        "id": "GZmyI3h6dmPI",
        "outputId": "f571f10e-bdef-4ddd-abbc-0f36f371d42a"
      },
      "outputs": [
        {
          "output_type": "display_data",
          "data": {
            "text/plain": [
              "<Figure size 432x288 with 1 Axes>"
            ],
            "image/png": "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\n"
          },
          "metadata": {
            "needs_background": "light"
          }
        },
        {
          "output_type": "display_data",
          "data": {
            "text/plain": [
              "<Figure size 432x288 with 1 Axes>"
            ],
            "image/png": "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\n"
          },
          "metadata": {
            "needs_background": "light"
          }
        }
      ],
      "source": [
        "sns.histplot(data = df_users, x = 'time_spent_on_the_page')\n",
        "plt.title('Histogram of Time Spent on Page')\n",
        "plt.xlabel('Time Spent on Page')\n",
        "plt.ylabel('Density')\n",
        "plt.show()\n",
        "sns.boxplot(data = df_users, x = 'time_spent_on_the_page')\n",
        "plt.title('Boxplot of Time Spent on Page')\n",
        "plt.xlabel('Time Spent on Page')\n",
        "plt.show()"
      ],
      "id": "GZmyI3h6dmPI"
    },
    {
      "cell_type": "code",
      "execution_count": 14,
      "metadata": {
        "colab": {
          "base_uri": "https://localhost:8080/"
        },
        "id": "Mrai1IBW7Nes",
        "outputId": "20c61ec3-6dc3-42fc-b2da-32e056d2e993"
      },
      "outputs": [
        {
          "output_type": "execute_result",
          "data": {
            "text/plain": [
              "2.378166078933492"
            ]
          },
          "metadata": {},
          "execution_count": 14
        }
      ],
      "source": [
        "df_users.time_spent_on_the_page.std()"
      ],
      "id": "Mrai1IBW7Nes"
    },
    {
      "cell_type": "markdown",
      "metadata": {
        "id": "q6m_Uo96hRn3"
      },
      "source": [
        "**Observation of Group in the Datasets**"
      ],
      "id": "q6m_Uo96hRn3"
    },
    {
      "cell_type": "code",
      "execution_count": 15,
      "metadata": {
        "colab": {
          "base_uri": "https://localhost:8080/",
          "height": 295
        },
        "id": "9nVxX35kfInC",
        "outputId": "03aadcba-85fb-4e07-e423-44ecc1abd9ad"
      },
      "outputs": [
        {
          "output_type": "display_data",
          "data": {
            "text/plain": [
              "<Figure size 432x288 with 1 Axes>"
            ],
            "image/png": "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\n"
          },
          "metadata": {
            "needs_background": "light"
          }
        }
      ],
      "source": [
        "sns.countplot(data=df_users,x='group')\n",
        "plt.title(\"Users' Group\")\n",
        "plt.xlabel('Group')\n",
        "plt.ylabel('Count')\n",
        "plt.show()"
      ],
      "id": "9nVxX35kfInC"
    },
    {
      "cell_type": "markdown",
      "metadata": {
        "id": "KXbw6Xcihp-c"
      },
      "source": [
        "**Observation of visits to the Landing Page**"
      ],
      "id": "KXbw6Xcihp-c"
    },
    {
      "cell_type": "code",
      "execution_count": 16,
      "metadata": {
        "colab": {
          "base_uri": "https://localhost:8080/",
          "height": 295
        },
        "id": "IqYT3nE5fPWH",
        "outputId": "40569b7f-eb59-4453-d66e-beffe5f06f2f"
      },
      "outputs": [
        {
          "output_type": "display_data",
          "data": {
            "text/plain": [
              "<Figure size 432x288 with 1 Axes>"
            ],
            "image/png": "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\n"
          },
          "metadata": {
            "needs_background": "light"
          }
        }
      ],
      "source": [
        "sns.countplot(data=df_users,x='landing_page')\n",
        "plt.title('Visits to Landing Page')\n",
        "plt.xlabel('Landing Page')\n",
        "plt.ylabel('Count')\n",
        "plt.show()"
      ],
      "id": "IqYT3nE5fPWH"
    },
    {
      "cell_type": "markdown",
      "metadata": {
        "id": "hQXUg8DSiCcN"
      },
      "source": [
        "**Observation of Converted Users**"
      ],
      "id": "hQXUg8DSiCcN"
    },
    {
      "cell_type": "code",
      "execution_count": 17,
      "metadata": {
        "colab": {
          "base_uri": "https://localhost:8080/",
          "height": 295
        },
        "id": "5c_AyNaXfVf6",
        "outputId": "4d3276f4-43cb-4187-96e8-d64770a9f3d2"
      },
      "outputs": [
        {
          "output_type": "display_data",
          "data": {
            "text/plain": [
              "<Figure size 432x288 with 1 Axes>"
            ],
            "image/png": "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\n"
          },
          "metadata": {
            "needs_background": "light"
          }
        }
      ],
      "source": [
        "sns.countplot(data=df_users,x='converted')\n",
        "plt.title('Distribution of Users by Conversion')\n",
        "plt.xlabel('Converted Users')\n",
        "plt.ylabel('Count')\n",
        "plt.show()"
      ],
      "id": "5c_AyNaXfVf6"
    },
    {
      "cell_type": "markdown",
      "metadata": {
        "id": "G9fCjGKniMTM"
      },
      "source": [
        "**Observation of Users Preferred Lanuage**"
      ],
      "id": "G9fCjGKniMTM"
    },
    {
      "cell_type": "code",
      "execution_count": 18,
      "metadata": {
        "colab": {
          "base_uri": "https://localhost:8080/",
          "height": 295
        },
        "id": "U8CiBO-FfeTp",
        "outputId": "80491215-a40a-4fd7-a3be-6576e33b12a8"
      },
      "outputs": [
        {
          "output_type": "display_data",
          "data": {
            "text/plain": [
              "<Figure size 432x288 with 1 Axes>"
            ],
            "image/png": "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\n"
          },
          "metadata": {
            "needs_background": "light"
          }
        }
      ],
      "source": [
        "sns.countplot(data=df_users,x='language_preferred')\n",
        "plt.title('Distribution of Preferred Language')\n",
        "plt.xlabel('Preferred Language')\n",
        "plt.ylabel('Count')\n",
        "plt.show()"
      ],
      "id": "U8CiBO-FfeTp"
    },
    {
      "cell_type": "markdown",
      "metadata": {
        "id": "fad2de2f"
      },
      "source": [
        "### Bivariate Analysis"
      ],
      "id": "fad2de2f"
    },
    {
      "cell_type": "markdown",
      "metadata": {
        "id": "z18JqxpxI1Dk"
      },
      "source": [
        "**Relationships between Time Spent on page & users who converted**"
      ],
      "id": "z18JqxpxI1Dk"
    },
    {
      "cell_type": "code",
      "execution_count": 19,
      "metadata": {
        "colab": {
          "base_uri": "https://localhost:8080/",
          "height": 458
        },
        "id": "58e9a1d0",
        "outputId": "f2c48ab8-7466-4ff3-86e5-2a08067c3551"
      },
      "outputs": [
        {
          "output_type": "display_data",
          "data": {
            "text/plain": [
              "<Figure size 1080x504 with 1 Axes>"
            ],
            "image/png": "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\n"
          },
          "metadata": {
            "needs_background": "light"
          }
        }
      ],
      "source": [
        "# ploting the relationhip between Time Spent on page & users who converted\n",
        "plt.figure(figsize=(15, 7))\n",
        "sns.boxplot(data = df_users, x = 'converted', y = 'time_spent_on_the_page')\n",
        "plt.title('Distribution of Coverted Users by Time Spent')\n",
        "plt.xlabel('Converted Users')\n",
        "plt.ylabel('Time Spent')\n",
        "plt.show()"
      ],
      "id": "58e9a1d0"
    },
    {
      "cell_type": "markdown",
      "metadata": {
        "id": "XoqG-0-2KaD1"
      },
      "source": [
        "**Relationships between Time Spent on page & Users' Preferred Language**"
      ],
      "id": "XoqG-0-2KaD1"
    },
    {
      "cell_type": "code",
      "execution_count": 20,
      "metadata": {
        "colab": {
          "base_uri": "https://localhost:8080/",
          "height": 459
        },
        "id": "dMNh_6raKZre",
        "outputId": "f0a5fa9e-0f9d-41a6-b30b-3fab69ed5dfc"
      },
      "outputs": [
        {
          "output_type": "display_data",
          "data": {
            "text/plain": [
              "<Figure size 1080x504 with 1 Axes>"
            ],
            "image/png": "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\n"
          },
          "metadata": {
            "needs_background": "light"
          }
        }
      ],
      "source": [
        "# ploting the relationhip between Time Spent on page & users' Preferred Language\n",
        "plt.figure(figsize=(15, 7))\n",
        "sns.boxplot(data = df_users, x = 'language_preferred', y = 'time_spent_on_the_page')\n",
        "plt.title('Distribution of Users Language Preferance')\n",
        "plt.xlabel('language_preferred')\n",
        "plt.ylabel('Time Spent')\n",
        "plt.show()"
      ],
      "id": "dMNh_6raKZre"
    },
    {
      "cell_type": "markdown",
      "metadata": {
        "id": "f9fkUqQ9KUzO"
      },
      "source": [
        "**Relationships between Time Spent on page & User Group**"
      ],
      "id": "f9fkUqQ9KUzO"
    },
    {
      "cell_type": "code",
      "execution_count": 21,
      "metadata": {
        "colab": {
          "base_uri": "https://localhost:8080/",
          "height": 458
        },
        "id": "3j4yEowSKUfM",
        "outputId": "c1c6fc1d-9e3d-4dc2-c29a-bfabe0ab738b"
      },
      "outputs": [
        {
          "output_type": "display_data",
          "data": {
            "text/plain": [
              "<Figure size 1080x504 with 1 Axes>"
            ],
            "image/png": "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\n"
          },
          "metadata": {
            "needs_background": "light"
          }
        }
      ],
      "source": [
        "# ploting the relationhip between Time Spent on page & users' group.\n",
        "plt.figure(figsize=(15, 7))\n",
        "sns.boxplot(data = df_users, x = 'group', y = 'time_spent_on_the_page')\n",
        "plt.title('Distribution of Users by Group')\n",
        "plt.xlabel(\"Users' group\")\n",
        "plt.ylabel('Time Spent')\n",
        "plt.show()"
      ],
      "id": "3j4yEowSKUfM"
    },
    {
      "cell_type": "markdown",
      "metadata": {
        "id": "jA2FmhTHKOyG"
      },
      "source": [
        "**Relationships between Time Spent on page & Landing Page**"
      ],
      "id": "jA2FmhTHKOyG"
    },
    {
      "cell_type": "code",
      "execution_count": 22,
      "metadata": {
        "colab": {
          "base_uri": "https://localhost:8080/",
          "height": 458
        },
        "id": "s_sTyKAfKOUr",
        "outputId": "f7127f04-4a0a-4da2-9798-8b4163a475ac"
      },
      "outputs": [
        {
          "output_type": "display_data",
          "data": {
            "text/plain": [
              "<Figure size 1080x504 with 1 Axes>"
            ],
            "image/png": "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\n"
          },
          "metadata": {
            "needs_background": "light"
          }
        }
      ],
      "source": [
        "# ploting the relationhip between Time Spent on page & Landing Page.\n",
        "plt.figure(figsize=(15, 7))\n",
        "sns.boxplot(data = df_users, x = 'landing_page', y = 'time_spent_on_the_page')\n",
        "plt.title('Distribution of Users visits to Page')\n",
        "plt.xlabel('Landing Page')\n",
        "plt.ylabel('Time Spent')\n",
        "plt.show()"
      ],
      "id": "s_sTyKAfKOUr"
    },
    {
      "cell_type": "markdown",
      "metadata": {
        "id": "27906576"
      },
      "source": [
        "## 1. Do the users spend more time on the new landing page than the existing landing page?"
      ],
      "id": "27906576"
    },
    {
      "cell_type": "code",
      "execution_count": 23,
      "metadata": {
        "colab": {
          "base_uri": "https://localhost:8080/",
          "height": 204
        },
        "id": "sCD7cCGd8YGM",
        "outputId": "36cf3444-d2e5-46bf-a633-aa5f796c3866"
      },
      "outputs": [
        {
          "output_type": "execute_result",
          "data": {
            "text/plain": [
              "   user_id      group landing_page  time_spent_on_the_page converted  \\\n",
              "0   546592    control          old                    3.48        no   \n",
              "1   546468  treatment          new                    7.13       yes   \n",
              "2   546462  treatment          new                    4.40        no   \n",
              "3   546567    control          old                    3.02        no   \n",
              "4   546459  treatment          new                    4.75       yes   \n",
              "\n",
              "  language_preferred  \n",
              "0            Spanish  \n",
              "1            English  \n",
              "2            Spanish  \n",
              "3             French  \n",
              "4            Spanish  "
            ],
            "text/html": [
              "\n",
              "  <div id=\"df-b033e149-750a-4752-9833-3a3d2537a4cb\">\n",
              "    <div class=\"colab-df-container\">\n",
              "      <div>\n",
              "<style scoped>\n",
              "    .dataframe tbody tr th:only-of-type {\n",
              "        vertical-align: middle;\n",
              "    }\n",
              "\n",
              "    .dataframe tbody tr th {\n",
              "        vertical-align: top;\n",
              "    }\n",
              "\n",
              "    .dataframe thead th {\n",
              "        text-align: right;\n",
              "    }\n",
              "</style>\n",
              "<table border=\"1\" class=\"dataframe\">\n",
              "  <thead>\n",
              "    <tr style=\"text-align: right;\">\n",
              "      <th></th>\n",
              "      <th>user_id</th>\n",
              "      <th>group</th>\n",
              "      <th>landing_page</th>\n",
              "      <th>time_spent_on_the_page</th>\n",
              "      <th>converted</th>\n",
              "      <th>language_preferred</th>\n",
              "    </tr>\n",
              "  </thead>\n",
              "  <tbody>\n",
              "    <tr>\n",
              "      <th>0</th>\n",
              "      <td>546592</td>\n",
              "      <td>control</td>\n",
              "      <td>old</td>\n",
              "      <td>3.48</td>\n",
              "      <td>no</td>\n",
              "      <td>Spanish</td>\n",
              "    </tr>\n",
              "    <tr>\n",
              "      <th>1</th>\n",
              "      <td>546468</td>\n",
              "      <td>treatment</td>\n",
              "      <td>new</td>\n",
              "      <td>7.13</td>\n",
              "      <td>yes</td>\n",
              "      <td>English</td>\n",
              "    </tr>\n",
              "    <tr>\n",
              "      <th>2</th>\n",
              "      <td>546462</td>\n",
              "      <td>treatment</td>\n",
              "      <td>new</td>\n",
              "      <td>4.40</td>\n",
              "      <td>no</td>\n",
              "      <td>Spanish</td>\n",
              "    </tr>\n",
              "    <tr>\n",
              "      <th>3</th>\n",
              "      <td>546567</td>\n",
              "      <td>control</td>\n",
              "      <td>old</td>\n",
              "      <td>3.02</td>\n",
              "      <td>no</td>\n",
              "      <td>French</td>\n",
              "    </tr>\n",
              "    <tr>\n",
              "      <th>4</th>\n",
              "      <td>546459</td>\n",
              "      <td>treatment</td>\n",
              "      <td>new</td>\n",
              "      <td>4.75</td>\n",
              "      <td>yes</td>\n",
              "      <td>Spanish</td>\n",
              "    </tr>\n",
              "  </tbody>\n",
              "</table>\n",
              "</div>\n",
              "      <button class=\"colab-df-convert\" onclick=\"convertToInteractive('df-b033e149-750a-4752-9833-3a3d2537a4cb')\"\n",
              "              title=\"Convert this dataframe to an interactive table.\"\n",
              "              style=\"display:none;\">\n",
              "        \n",
              "  <svg xmlns=\"http://www.w3.org/2000/svg\" height=\"24px\"viewBox=\"0 0 24 24\"\n",
              "       width=\"24px\">\n",
              "    <path d=\"M0 0h24v24H0V0z\" fill=\"none\"/>\n",
              "    <path d=\"M18.56 5.44l.94 2.06.94-2.06 2.06-.94-2.06-.94-.94-2.06-.94 2.06-2.06.94zm-11 1L8.5 8.5l.94-2.06 2.06-.94-2.06-.94L8.5 2.5l-.94 2.06-2.06.94zm10 10l.94 2.06.94-2.06 2.06-.94-2.06-.94-.94-2.06-.94 2.06-2.06.94z\"/><path d=\"M17.41 7.96l-1.37-1.37c-.4-.4-.92-.59-1.43-.59-.52 0-1.04.2-1.43.59L10.3 9.45l-7.72 7.72c-.78.78-.78 2.05 0 2.83L4 21.41c.39.39.9.59 1.41.59.51 0 1.02-.2 1.41-.59l7.78-7.78 2.81-2.81c.8-.78.8-2.07 0-2.86zM5.41 20L4 18.59l7.72-7.72 1.47 1.35L5.41 20z\"/>\n",
              "  </svg>\n",
              "      </button>\n",
              "      \n",
              "  <style>\n",
              "    .colab-df-container {\n",
              "      display:flex;\n",
              "      flex-wrap:wrap;\n",
              "      gap: 12px;\n",
              "    }\n",
              "\n",
              "    .colab-df-convert {\n",
              "      background-color: #E8F0FE;\n",
              "      border: none;\n",
              "      border-radius: 50%;\n",
              "      cursor: pointer;\n",
              "      display: none;\n",
              "      fill: #1967D2;\n",
              "      height: 32px;\n",
              "      padding: 0 0 0 0;\n",
              "      width: 32px;\n",
              "    }\n",
              "\n",
              "    .colab-df-convert:hover {\n",
              "      background-color: #E2EBFA;\n",
              "      box-shadow: 0px 1px 2px rgba(60, 64, 67, 0.3), 0px 1px 3px 1px rgba(60, 64, 67, 0.15);\n",
              "      fill: #174EA6;\n",
              "    }\n",
              "\n",
              "    [theme=dark] .colab-df-convert {\n",
              "      background-color: #3B4455;\n",
              "      fill: #D2E3FC;\n",
              "    }\n",
              "\n",
              "    [theme=dark] .colab-df-convert:hover {\n",
              "      background-color: #434B5C;\n",
              "      box-shadow: 0px 1px 3px 1px rgba(0, 0, 0, 0.15);\n",
              "      filter: drop-shadow(0px 1px 2px rgba(0, 0, 0, 0.3));\n",
              "      fill: #FFFFFF;\n",
              "    }\n",
              "  </style>\n",
              "\n",
              "      <script>\n",
              "        const buttonEl =\n",
              "          document.querySelector('#df-b033e149-750a-4752-9833-3a3d2537a4cb button.colab-df-convert');\n",
              "        buttonEl.style.display =\n",
              "          google.colab.kernel.accessAllowed ? 'block' : 'none';\n",
              "\n",
              "        async function convertToInteractive(key) {\n",
              "          const element = document.querySelector('#df-b033e149-750a-4752-9833-3a3d2537a4cb');\n",
              "          const dataTable =\n",
              "            await google.colab.kernel.invokeFunction('convertToInteractive',\n",
              "                                                     [key], {});\n",
              "          if (!dataTable) return;\n",
              "\n",
              "          const docLinkHtml = 'Like what you see? Visit the ' +\n",
              "            '<a target=\"_blank\" href=https://colab.research.google.com/notebooks/data_table.ipynb>data table notebook</a>'\n",
              "            + ' to learn more about interactive tables.';\n",
              "          element.innerHTML = '';\n",
              "          dataTable['output_type'] = 'display_data';\n",
              "          await google.colab.output.renderOutput(dataTable, element);\n",
              "          const docLink = document.createElement('div');\n",
              "          docLink.innerHTML = docLinkHtml;\n",
              "          element.appendChild(docLink);\n",
              "        }\n",
              "      </script>\n",
              "    </div>\n",
              "  </div>\n",
              "  "
            ]
          },
          "metadata": {},
          "execution_count": 23
        }
      ],
      "source": [
        "df_users.head()"
      ],
      "id": "sCD7cCGd8YGM"
    },
    {
      "cell_type": "markdown",
      "metadata": {
        "id": "e5fdf0c8"
      },
      "source": [
        "**Perform Visual Analysis**"
      ],
      "id": "e5fdf0c8"
    },
    {
      "cell_type": "code",
      "execution_count": 24,
      "metadata": {
        "colab": {
          "base_uri": "https://localhost:8080/",
          "height": 513
        },
        "id": "6eZJa41eg21n",
        "outputId": "70d31640-e98f-4e4f-bab8-69de9e44e0a8"
      },
      "outputs": [
        {
          "output_type": "display_data",
          "data": {
            "text/plain": [
              "<Figure size 720x576 with 1 Axes>"
            ],
            "image/png": "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\n"
          },
          "metadata": {
            "needs_background": "light"
          }
        }
      ],
      "source": [
        "#plot a visual representation\n",
        "plt.figure(figsize=(10,8))\n",
        "sns.boxplot(data = df_users, x = 'landing_page', y = 'time_spent_on_the_page')\n",
        "plt.title('Distribution of Users visits to Page')\n",
        "plt.xlabel('Landing Page')\n",
        "plt.ylabel('Time Spent on Page')\n",
        "plt.show()\n"
      ],
      "id": "6eZJa41eg21n"
    },
    {
      "cell_type": "markdown",
      "metadata": {
        "id": "Es5pMYeEEZjK"
      },
      "source": [
        "**Observations:**\n",
        "\n",
        "The boxplot indicates that Users on the new landing page appear to remain on the page longer than users on the existing landing page."
      ],
      "id": "Es5pMYeEEZjK"
    },
    {
      "cell_type": "markdown",
      "metadata": {
        "id": "56b3dafd"
      },
      "source": [
        "**Step 1: Define the null and alternate hypotheses**"
      ],
      "id": "56b3dafd"
    },
    {
      "cell_type": "markdown",
      "metadata": {
        "id": "PHdz8sOhMtKU"
      },
      "source": [
        "The null hypothesis would be that time spent on the new landing page is not greater than the time spent on the existing landing page.\n",
        "\n",
        "**Ho: πn ≤ πe**\n",
        "\n",
        "The alternative hypothesis would be that the time spent on the new landing page is greater than the time spent on the existing landing page.\n",
        "\n",
        "**Ha: πn > πe**\n",
        "\n",
        "This is be statistically represented below as:\n",
        "\n",
        "**Ho: πn ≤ πe**\n",
        "\n",
        "**Ha: πn > πe** \n",
        "\n",
        "\n"
      ],
      "id": "PHdz8sOhMtKU"
    },
    {
      "cell_type": "markdown",
      "metadata": {
        "id": "c7ee4907"
      },
      "source": [
        "**Step 2: Select Appropriate test**"
      ],
      "id": "c7ee4907"
    },
    {
      "cell_type": "markdown",
      "metadata": {
        "id": "2c183cd7"
      },
      "source": [
        "This is a Two-sample Problem.\n",
        "\n",
        "**It is appropriate to use a t-test if the following assumptions are met:**\n",
        "\n",
        "The data are normally distributed within each group.\n",
        "\n",
        "The variances of the two groups are equal.\n",
        "\n",
        "The two groups are independent of each other.\n",
        "\n",
        "As a result, the t-test will be used to compare the parameters of the Users on the new and old Landing Pages."
      ],
      "id": "2c183cd7"
    },
    {
      "cell_type": "markdown",
      "metadata": {
        "id": "3f58c9a7"
      },
      "source": [
        "**Step 3: Decide the significance level**\n",
        "\n",
        "---\n",
        "\n"
      ],
      "id": "3f58c9a7"
    },
    {
      "cell_type": "markdown",
      "metadata": {
        "id": "92d7d7ee"
      },
      "source": [
        "We will set our significance level to 0.05 because the objective is to compute and analyze at a significant level of 5%.\n",
        "\n",
        "Therefore, we select α = 0.05. \n"
      ],
      "id": "92d7d7ee"
    },
    {
      "cell_type": "code",
      "execution_count": 25,
      "metadata": {
        "id": "wegnOXy_cU2y"
      },
      "outputs": [],
      "source": [
        "sig_level = 0.05"
      ],
      "id": "wegnOXy_cU2y"
    },
    {
      "cell_type": "markdown",
      "metadata": {
        "id": "5fed2eac"
      },
      "source": [
        "**Step 4: Collect and prepare data**"
      ],
      "id": "5fed2eac"
    },
    {
      "cell_type": "code",
      "execution_count": 26,
      "metadata": {
        "id": "vzfbAtfM8gUs"
      },
      "outputs": [],
      "source": [
        "# filter by users of landing page visits\n",
        "users_new_page = df_users[df_users['landing_page'] == 'new']\n",
        "users_old_page = df_users[df_users['landing_page'] == 'old']"
      ],
      "id": "vzfbAtfM8gUs"
    },
    {
      "cell_type": "code",
      "execution_count": 27,
      "metadata": {
        "colab": {
          "base_uri": "https://localhost:8080/"
        },
        "id": "0YlofuGG9Rj-",
        "outputId": "2a21ad46-5803-48e4-b8de-b65b9ea87ab7"
      },
      "outputs": [
        {
          "output_type": "stream",
          "name": "stdout",
          "text": [
            "The average time users spent on new page is 6.22 minutes\n",
            "The average time users spent on old page is 4.53 minutes\n",
            "The sample standard deviation of time spent on new page is 1.82\n",
            "The sample standard deviation of time spent on old page is 2.58\n"
          ]
        }
      ],
      "source": [
        "print('The average time users spent on new page is', round(users_new_page.time_spent_on_the_page.mean(),2), 'minutes')\n",
        "print('The average time users spent on old page is', round(users_old_page.time_spent_on_the_page.mean(),2), 'minutes')\n",
        "print('The sample standard deviation of time spent on new page is', round(users_new_page.time_spent_on_the_page.std(),2))\n",
        "print('The sample standard deviation of time spent on old page is', round(users_old_page.time_spent_on_the_page.std(),2)) "
      ],
      "id": "0YlofuGG9Rj-"
    },
    {
      "cell_type": "code",
      "execution_count": 28,
      "metadata": {
        "colab": {
          "base_uri": "https://localhost:8080/",
          "height": 204
        },
        "id": "dUtgV6SLqCY6",
        "outputId": "70b30582-363c-43d3-9c5c-07fd20d28546"
      },
      "outputs": [
        {
          "output_type": "execute_result",
          "data": {
            "text/plain": [
              "   user_id    group landing_page  time_spent_on_the_page converted  \\\n",
              "0   546592  control          old                    3.48        no   \n",
              "3   546567  control          old                    3.02        no   \n",
              "5   546558  control          old                    5.28       yes   \n",
              "7   546581  control          old                    6.53       yes   \n",
              "9   546548  control          old                    2.08        no   \n",
              "\n",
              "  language_preferred  \n",
              "0            Spanish  \n",
              "3             French  \n",
              "5            English  \n",
              "7            Spanish  \n",
              "9            English  "
            ],
            "text/html": [
              "\n",
              "  <div id=\"df-b443f227-edee-422e-b8b0-e7db136a8627\">\n",
              "    <div class=\"colab-df-container\">\n",
              "      <div>\n",
              "<style scoped>\n",
              "    .dataframe tbody tr th:only-of-type {\n",
              "        vertical-align: middle;\n",
              "    }\n",
              "\n",
              "    .dataframe tbody tr th {\n",
              "        vertical-align: top;\n",
              "    }\n",
              "\n",
              "    .dataframe thead th {\n",
              "        text-align: right;\n",
              "    }\n",
              "</style>\n",
              "<table border=\"1\" class=\"dataframe\">\n",
              "  <thead>\n",
              "    <tr style=\"text-align: right;\">\n",
              "      <th></th>\n",
              "      <th>user_id</th>\n",
              "      <th>group</th>\n",
              "      <th>landing_page</th>\n",
              "      <th>time_spent_on_the_page</th>\n",
              "      <th>converted</th>\n",
              "      <th>language_preferred</th>\n",
              "    </tr>\n",
              "  </thead>\n",
              "  <tbody>\n",
              "    <tr>\n",
              "      <th>0</th>\n",
              "      <td>546592</td>\n",
              "      <td>control</td>\n",
              "      <td>old</td>\n",
              "      <td>3.48</td>\n",
              "      <td>no</td>\n",
              "      <td>Spanish</td>\n",
              "    </tr>\n",
              "    <tr>\n",
              "      <th>3</th>\n",
              "      <td>546567</td>\n",
              "      <td>control</td>\n",
              "      <td>old</td>\n",
              "      <td>3.02</td>\n",
              "      <td>no</td>\n",
              "      <td>French</td>\n",
              "    </tr>\n",
              "    <tr>\n",
              "      <th>5</th>\n",
              "      <td>546558</td>\n",
              "      <td>control</td>\n",
              "      <td>old</td>\n",
              "      <td>5.28</td>\n",
              "      <td>yes</td>\n",
              "      <td>English</td>\n",
              "    </tr>\n",
              "    <tr>\n",
              "      <th>7</th>\n",
              "      <td>546581</td>\n",
              "      <td>control</td>\n",
              "      <td>old</td>\n",
              "      <td>6.53</td>\n",
              "      <td>yes</td>\n",
              "      <td>Spanish</td>\n",
              "    </tr>\n",
              "    <tr>\n",
              "      <th>9</th>\n",
              "      <td>546548</td>\n",
              "      <td>control</td>\n",
              "      <td>old</td>\n",
              "      <td>2.08</td>\n",
              "      <td>no</td>\n",
              "      <td>English</td>\n",
              "    </tr>\n",
              "  </tbody>\n",
              "</table>\n",
              "</div>\n",
              "      <button class=\"colab-df-convert\" onclick=\"convertToInteractive('df-b443f227-edee-422e-b8b0-e7db136a8627')\"\n",
              "              title=\"Convert this dataframe to an interactive table.\"\n",
              "              style=\"display:none;\">\n",
              "        \n",
              "  <svg xmlns=\"http://www.w3.org/2000/svg\" height=\"24px\"viewBox=\"0 0 24 24\"\n",
              "       width=\"24px\">\n",
              "    <path d=\"M0 0h24v24H0V0z\" fill=\"none\"/>\n",
              "    <path d=\"M18.56 5.44l.94 2.06.94-2.06 2.06-.94-2.06-.94-.94-2.06-.94 2.06-2.06.94zm-11 1L8.5 8.5l.94-2.06 2.06-.94-2.06-.94L8.5 2.5l-.94 2.06-2.06.94zm10 10l.94 2.06.94-2.06 2.06-.94-2.06-.94-.94-2.06-.94 2.06-2.06.94z\"/><path d=\"M17.41 7.96l-1.37-1.37c-.4-.4-.92-.59-1.43-.59-.52 0-1.04.2-1.43.59L10.3 9.45l-7.72 7.72c-.78.78-.78 2.05 0 2.83L4 21.41c.39.39.9.59 1.41.59.51 0 1.02-.2 1.41-.59l7.78-7.78 2.81-2.81c.8-.78.8-2.07 0-2.86zM5.41 20L4 18.59l7.72-7.72 1.47 1.35L5.41 20z\"/>\n",
              "  </svg>\n",
              "      </button>\n",
              "      \n",
              "  <style>\n",
              "    .colab-df-container {\n",
              "      display:flex;\n",
              "      flex-wrap:wrap;\n",
              "      gap: 12px;\n",
              "    }\n",
              "\n",
              "    .colab-df-convert {\n",
              "      background-color: #E8F0FE;\n",
              "      border: none;\n",
              "      border-radius: 50%;\n",
              "      cursor: pointer;\n",
              "      display: none;\n",
              "      fill: #1967D2;\n",
              "      height: 32px;\n",
              "      padding: 0 0 0 0;\n",
              "      width: 32px;\n",
              "    }\n",
              "\n",
              "    .colab-df-convert:hover {\n",
              "      background-color: #E2EBFA;\n",
              "      box-shadow: 0px 1px 2px rgba(60, 64, 67, 0.3), 0px 1px 3px 1px rgba(60, 64, 67, 0.15);\n",
              "      fill: #174EA6;\n",
              "    }\n",
              "\n",
              "    [theme=dark] .colab-df-convert {\n",
              "      background-color: #3B4455;\n",
              "      fill: #D2E3FC;\n",
              "    }\n",
              "\n",
              "    [theme=dark] .colab-df-convert:hover {\n",
              "      background-color: #434B5C;\n",
              "      box-shadow: 0px 1px 3px 1px rgba(0, 0, 0, 0.15);\n",
              "      filter: drop-shadow(0px 1px 2px rgba(0, 0, 0, 0.3));\n",
              "      fill: #FFFFFF;\n",
              "    }\n",
              "  </style>\n",
              "\n",
              "      <script>\n",
              "        const buttonEl =\n",
              "          document.querySelector('#df-b443f227-edee-422e-b8b0-e7db136a8627 button.colab-df-convert');\n",
              "        buttonEl.style.display =\n",
              "          google.colab.kernel.accessAllowed ? 'block' : 'none';\n",
              "\n",
              "        async function convertToInteractive(key) {\n",
              "          const element = document.querySelector('#df-b443f227-edee-422e-b8b0-e7db136a8627');\n",
              "          const dataTable =\n",
              "            await google.colab.kernel.invokeFunction('convertToInteractive',\n",
              "                                                     [key], {});\n",
              "          if (!dataTable) return;\n",
              "\n",
              "          const docLinkHtml = 'Like what you see? Visit the ' +\n",
              "            '<a target=\"_blank\" href=https://colab.research.google.com/notebooks/data_table.ipynb>data table notebook</a>'\n",
              "            + ' to learn more about interactive tables.';\n",
              "          element.innerHTML = '';\n",
              "          dataTable['output_type'] = 'display_data';\n",
              "          await google.colab.output.renderOutput(dataTable, element);\n",
              "          const docLink = document.createElement('div');\n",
              "          docLink.innerHTML = docLinkHtml;\n",
              "          element.appendChild(docLink);\n",
              "        }\n",
              "      </script>\n",
              "    </div>\n",
              "  </div>\n",
              "  "
            ]
          },
          "metadata": {},
          "execution_count": 28
        }
      ],
      "source": [
        "users_old_page.head()"
      ],
      "id": "dUtgV6SLqCY6"
    },
    {
      "cell_type": "code",
      "execution_count": 29,
      "metadata": {
        "id": "icHaoApapcm-"
      },
      "outputs": [],
      "source": [
        "# calculating the mean and standard deviation of time spent on page.\n",
        "mu = df_users.time_spent_on_the_page.mean()\n",
        "sigma = df_users.time_spent_on_the_page.std()\n",
        "\n",
        "from scipy.stats import norm\n",
        "\n",
        "# calculating the probability density function.\n",
        "density = pd.DataFrame()\n",
        "density['x'] = np.linspace(\n",
        "    df_users['time_spent_on_the_page'].min() - 0.01, df_users['time_spent_on_the_page'].max() + 0.01, 1000\n",
        ")\n",
        "\n",
        "density['pdf'] = norm.pdf(density['x'], mu, sigma)"
      ],
      "id": "icHaoApapcm-"
    },
    {
      "cell_type": "code",
      "execution_count": 30,
      "metadata": {
        "colab": {
          "base_uri": "https://localhost:8080/",
          "height": 280
        },
        "id": "i4DcRyExoN2e",
        "outputId": "c2be91e1-846b-4a28-b682-7c1778ab7d56"
      },
      "outputs": [
        {
          "output_type": "display_data",
          "data": {
            "text/plain": [
              "<Figure size 432x288 with 1 Axes>"
            ],
            "image/png": "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\n"
          },
          "metadata": {
            "needs_background": "light"
          }
        }
      ],
      "source": [
        "#Ploting the Distribution of the data\n",
        "fig, ax = plt.subplots()\n",
        "sns.histplot(df_users['time_spent_on_the_page'], ax = ax, kde = True, stat = 'density')\n",
        "ax.plot(density['x'], density['pdf'], color = 'r')\n",
        "plt.show()"
      ],
      "id": "i4DcRyExoN2e"
    },
    {
      "cell_type": "markdown",
      "metadata": {
        "id": "f5c5258d"
      },
      "source": [
        "**Step 5: Calculate the p-value**\n",
        "\n",
        "If HA: πn > πe, the p-value of the test is Prob[t(df) < observed value of test statistic]"
      ],
      "id": "f5c5258d"
    },
    {
      "cell_type": "code",
      "execution_count": 31,
      "metadata": {
        "colab": {
          "base_uri": "https://localhost:8080/"
        },
        "id": "7be47289",
        "outputId": "ac0da404-3197-41f6-c201-8b4ce39002b0"
      },
      "outputs": [
        {
          "output_type": "stream",
          "name": "stdout",
          "text": [
            "0.0001316123528095005\n",
            "-3.7867702694199856\n"
          ]
        }
      ],
      "source": [
        "from scipy.stats import ttest_ind # t test for two independent samples\n",
        "\n",
        "# analysis for t-test statistics and p-value\n",
        "test_stat, p_value = ttest_ind(users_old_page['time_spent_on_the_page'], users_new_page['time_spent_on_the_page'], equal_var = True, alternative = 'less')\n",
        "print(p_value)\n",
        "print(test_stat)"
      ],
      "id": "7be47289"
    },
    {
      "cell_type": "code",
      "execution_count": 32,
      "metadata": {
        "colab": {
          "base_uri": "https://localhost:8080/",
          "height": 265
        },
        "id": "X-5XlLbEsBUz",
        "outputId": "df2f5bad-19d0-4c30-d0a1-12231577932e"
      },
      "outputs": [
        {
          "output_type": "display_data",
          "data": {
            "text/plain": [
              "<Figure size 432x288 with 1 Axes>"
            ],
            "image/png": "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\n"
          },
          "metadata": {
            "needs_background": "light"
          }
        }
      ],
      "source": [
        "from scipy.stats import t \n",
        "\n",
        "# plot rejection region\n",
        "\n",
        "x = np.linspace(-5,5,100)\n",
        "plt.plot(x, t.pdf(x, df = len(df_users)- 1))\n",
        "plt.axvline(x = test_stat, c = 'r')\n",
        "plt.annotate('Reject\\n Null', (- 5, 0.25))\n",
        "plt.fill_between(x, t.pdf(x, df = len(df_users) - 1), color = 'yellow')\n",
        "plt.show()"
      ],
      "id": "X-5XlLbEsBUz"
    },
    {
      "cell_type": "markdown",
      "metadata": {
        "id": "359b12f8"
      },
      "source": [
        "**Step 6: Compare the p-value with $\\alpha$**"
      ],
      "id": "359b12f8"
    },
    {
      "cell_type": "code",
      "execution_count": 33,
      "metadata": {
        "id": "sWOC9g0nge8P"
      },
      "outputs": [],
      "source": [
        "#create a user-defined function to compare p-value\n",
        "\n",
        "def compare_pvalue(p_value):\n",
        "  sig_level = 0.05\n",
        "  if p_value < sig_level:\n",
        "    print(f'As the p-value {p_value} is less than the level of significance, we reject the null hypothesis.')\n",
        "  else:\n",
        "    print(f'As the p-value {p_value} is greater than the level of significance, we fail to reject the null hypothesis.')"
      ],
      "id": "sWOC9g0nge8P"
    },
    {
      "cell_type": "code",
      "execution_count": 34,
      "metadata": {
        "colab": {
          "base_uri": "https://localhost:8080/"
        },
        "id": "eVfirHv-g05V",
        "outputId": "433d6773-0608-4457-f54d-a2a95a79362a"
      },
      "outputs": [
        {
          "output_type": "stream",
          "name": "stdout",
          "text": [
            "As the p-value 0.0001316123528095005 is less than the level of significance, we reject the null hypothesis.\n"
          ]
        }
      ],
      "source": [
        "# call function to compare the p-value of the analysis\n",
        "compare_pvalue(p_value)"
      ],
      "id": "eVfirHv-g05V"
    },
    {
      "cell_type": "markdown",
      "metadata": {
        "id": "d9affc84"
      },
      "source": [
        "**Step 7:  Draw inference**\n",
        "\n",
        "Because the p-value (0.0001) is below the level of significance (0.05), we have enough statistical evidence to reject the null hypothesis. Thus, statistical evidence is sufficient to support the alternative hypothesis that the time spent on the new landing page is greater than the time spent on the existing landing page.\n",
        "\n",
        "There is a significant difference for the time users spend on the two pages, with users spending more time on the new landing page. "
      ],
      "id": "d9affc84"
    },
    {
      "cell_type": "markdown",
      "metadata": {
        "id": "353e9d24"
      },
      "source": [
        "## 2. Is the conversion rate (the proportion of users who visit the landing page and get converted) for the new page greater than the conversion rate for the old page?"
      ],
      "id": "353e9d24"
    },
    {
      "cell_type": "markdown",
      "metadata": {
        "id": "luShSfiXtEgv"
      },
      "source": [
        " **Perform Visual Analysis**"
      ],
      "id": "luShSfiXtEgv"
    },
    {
      "cell_type": "code",
      "execution_count": 35,
      "metadata": {
        "colab": {
          "base_uri": "https://localhost:8080/",
          "height": 726
        },
        "id": "9y_9tClHpuD7",
        "outputId": "7d717173-5207-4c92-d01b-45e5f927b15c"
      },
      "outputs": [
        {
          "output_type": "display_data",
          "data": {
            "text/plain": [
              "<Figure size 720x864 with 1 Axes>"
            ],
            "image/png": "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\n"
          },
          "metadata": {
            "needs_background": "light"
          }
        }
      ],
      "source": [
        "# plot a visual representation\n",
        "pd.crosstab(df_users['landing_page'],\n",
        "            df_users['converted'],\n",
        "            normalize='index').plot(kind='bar', \n",
        "            figsize=(10,12),\n",
        "            stacked=False\n",
        "            )\n",
        "plt.legend()\n",
        "plt.show()"
      ],
      "id": "9y_9tClHpuD7"
    },
    {
      "cell_type": "markdown",
      "metadata": {
        "id": "NkPi6mUcc7GD"
      },
      "source": [
        "**Observation:**\n",
        "\n",
        "The Bar-Graph shows that there is a higher conversion rate for the New Landing Page compare to the Old Landing Page."
      ],
      "id": "NkPi6mUcc7GD"
    },
    {
      "cell_type": "code",
      "execution_count": 36,
      "metadata": {
        "colab": {
          "base_uri": "https://localhost:8080/"
        },
        "id": "Djh6OtCn5nys",
        "outputId": "2f759e25-17cb-443f-b83a-a51fb125cc31"
      },
      "outputs": [
        {
          "output_type": "execute_result",
          "data": {
            "text/plain": [
              "old    50\n",
              "new    50\n",
              "Name: landing_page, dtype: int64"
            ]
          },
          "metadata": {},
          "execution_count": 36
        }
      ],
      "source": [
        "df_users['landing_page'].value_counts()"
      ],
      "id": "Djh6OtCn5nys"
    },
    {
      "cell_type": "code",
      "execution_count": 37,
      "metadata": {
        "colab": {
          "base_uri": "https://localhost:8080/",
          "height": 204
        },
        "id": "Ns6W52rAy7ZL",
        "outputId": "9c9c35f1-323c-4842-8623-2935a75e8668"
      },
      "outputs": [
        {
          "output_type": "execute_result",
          "data": {
            "text/plain": [
              "   user_id      group landing_page  time_spent_on_the_page converted  \\\n",
              "1   546468  treatment          new                    7.13       yes   \n",
              "2   546462  treatment          new                    4.40        no   \n",
              "4   546459  treatment          new                    4.75       yes   \n",
              "6   546448  treatment          new                    5.25       yes   \n",
              "8   546461  treatment          new                   10.71       yes   \n",
              "\n",
              "  language_preferred  \n",
              "1            English  \n",
              "2            Spanish  \n",
              "4            Spanish  \n",
              "6             French  \n",
              "8             French  "
            ],
            "text/html": [
              "\n",
              "  <div id=\"df-8c6f8dee-bc0a-4b4b-bde0-5c45117229f6\">\n",
              "    <div class=\"colab-df-container\">\n",
              "      <div>\n",
              "<style scoped>\n",
              "    .dataframe tbody tr th:only-of-type {\n",
              "        vertical-align: middle;\n",
              "    }\n",
              "\n",
              "    .dataframe tbody tr th {\n",
              "        vertical-align: top;\n",
              "    }\n",
              "\n",
              "    .dataframe thead th {\n",
              "        text-align: right;\n",
              "    }\n",
              "</style>\n",
              "<table border=\"1\" class=\"dataframe\">\n",
              "  <thead>\n",
              "    <tr style=\"text-align: right;\">\n",
              "      <th></th>\n",
              "      <th>user_id</th>\n",
              "      <th>group</th>\n",
              "      <th>landing_page</th>\n",
              "      <th>time_spent_on_the_page</th>\n",
              "      <th>converted</th>\n",
              "      <th>language_preferred</th>\n",
              "    </tr>\n",
              "  </thead>\n",
              "  <tbody>\n",
              "    <tr>\n",
              "      <th>1</th>\n",
              "      <td>546468</td>\n",
              "      <td>treatment</td>\n",
              "      <td>new</td>\n",
              "      <td>7.13</td>\n",
              "      <td>yes</td>\n",
              "      <td>English</td>\n",
              "    </tr>\n",
              "    <tr>\n",
              "      <th>2</th>\n",
              "      <td>546462</td>\n",
              "      <td>treatment</td>\n",
              "      <td>new</td>\n",
              "      <td>4.40</td>\n",
              "      <td>no</td>\n",
              "      <td>Spanish</td>\n",
              "    </tr>\n",
              "    <tr>\n",
              "      <th>4</th>\n",
              "      <td>546459</td>\n",
              "      <td>treatment</td>\n",
              "      <td>new</td>\n",
              "      <td>4.75</td>\n",
              "      <td>yes</td>\n",
              "      <td>Spanish</td>\n",
              "    </tr>\n",
              "    <tr>\n",
              "      <th>6</th>\n",
              "      <td>546448</td>\n",
              "      <td>treatment</td>\n",
              "      <td>new</td>\n",
              "      <td>5.25</td>\n",
              "      <td>yes</td>\n",
              "      <td>French</td>\n",
              "    </tr>\n",
              "    <tr>\n",
              "      <th>8</th>\n",
              "      <td>546461</td>\n",
              "      <td>treatment</td>\n",
              "      <td>new</td>\n",
              "      <td>10.71</td>\n",
              "      <td>yes</td>\n",
              "      <td>French</td>\n",
              "    </tr>\n",
              "  </tbody>\n",
              "</table>\n",
              "</div>\n",
              "      <button class=\"colab-df-convert\" onclick=\"convertToInteractive('df-8c6f8dee-bc0a-4b4b-bde0-5c45117229f6')\"\n",
              "              title=\"Convert this dataframe to an interactive table.\"\n",
              "              style=\"display:none;\">\n",
              "        \n",
              "  <svg xmlns=\"http://www.w3.org/2000/svg\" height=\"24px\"viewBox=\"0 0 24 24\"\n",
              "       width=\"24px\">\n",
              "    <path d=\"M0 0h24v24H0V0z\" fill=\"none\"/>\n",
              "    <path d=\"M18.56 5.44l.94 2.06.94-2.06 2.06-.94-2.06-.94-.94-2.06-.94 2.06-2.06.94zm-11 1L8.5 8.5l.94-2.06 2.06-.94-2.06-.94L8.5 2.5l-.94 2.06-2.06.94zm10 10l.94 2.06.94-2.06 2.06-.94-2.06-.94-.94-2.06-.94 2.06-2.06.94z\"/><path d=\"M17.41 7.96l-1.37-1.37c-.4-.4-.92-.59-1.43-.59-.52 0-1.04.2-1.43.59L10.3 9.45l-7.72 7.72c-.78.78-.78 2.05 0 2.83L4 21.41c.39.39.9.59 1.41.59.51 0 1.02-.2 1.41-.59l7.78-7.78 2.81-2.81c.8-.78.8-2.07 0-2.86zM5.41 20L4 18.59l7.72-7.72 1.47 1.35L5.41 20z\"/>\n",
              "  </svg>\n",
              "      </button>\n",
              "      \n",
              "  <style>\n",
              "    .colab-df-container {\n",
              "      display:flex;\n",
              "      flex-wrap:wrap;\n",
              "      gap: 12px;\n",
              "    }\n",
              "\n",
              "    .colab-df-convert {\n",
              "      background-color: #E8F0FE;\n",
              "      border: none;\n",
              "      border-radius: 50%;\n",
              "      cursor: pointer;\n",
              "      display: none;\n",
              "      fill: #1967D2;\n",
              "      height: 32px;\n",
              "      padding: 0 0 0 0;\n",
              "      width: 32px;\n",
              "    }\n",
              "\n",
              "    .colab-df-convert:hover {\n",
              "      background-color: #E2EBFA;\n",
              "      box-shadow: 0px 1px 2px rgba(60, 64, 67, 0.3), 0px 1px 3px 1px rgba(60, 64, 67, 0.15);\n",
              "      fill: #174EA6;\n",
              "    }\n",
              "\n",
              "    [theme=dark] .colab-df-convert {\n",
              "      background-color: #3B4455;\n",
              "      fill: #D2E3FC;\n",
              "    }\n",
              "\n",
              "    [theme=dark] .colab-df-convert:hover {\n",
              "      background-color: #434B5C;\n",
              "      box-shadow: 0px 1px 3px 1px rgba(0, 0, 0, 0.15);\n",
              "      filter: drop-shadow(0px 1px 2px rgba(0, 0, 0, 0.3));\n",
              "      fill: #FFFFFF;\n",
              "    }\n",
              "  </style>\n",
              "\n",
              "      <script>\n",
              "        const buttonEl =\n",
              "          document.querySelector('#df-8c6f8dee-bc0a-4b4b-bde0-5c45117229f6 button.colab-df-convert');\n",
              "        buttonEl.style.display =\n",
              "          google.colab.kernel.accessAllowed ? 'block' : 'none';\n",
              "\n",
              "        async function convertToInteractive(key) {\n",
              "          const element = document.querySelector('#df-8c6f8dee-bc0a-4b4b-bde0-5c45117229f6');\n",
              "          const dataTable =\n",
              "            await google.colab.kernel.invokeFunction('convertToInteractive',\n",
              "                                                     [key], {});\n",
              "          if (!dataTable) return;\n",
              "\n",
              "          const docLinkHtml = 'Like what you see? Visit the ' +\n",
              "            '<a target=\"_blank\" href=https://colab.research.google.com/notebooks/data_table.ipynb>data table notebook</a>'\n",
              "            + ' to learn more about interactive tables.';\n",
              "          element.innerHTML = '';\n",
              "          dataTable['output_type'] = 'display_data';\n",
              "          await google.colab.output.renderOutput(dataTable, element);\n",
              "          const docLink = document.createElement('div');\n",
              "          docLink.innerHTML = docLinkHtml;\n",
              "          element.appendChild(docLink);\n",
              "        }\n",
              "      </script>\n",
              "    </div>\n",
              "  </div>\n",
              "  "
            ]
          },
          "metadata": {},
          "execution_count": 37
        }
      ],
      "source": [
        "users_new_page.head()"
      ],
      "id": "Ns6W52rAy7ZL"
    },
    {
      "cell_type": "markdown",
      "metadata": {
        "id": "6zmZEoWgtMeU"
      },
      "source": [
        "**Step 1:Define the Null and Alternate hypotheses**"
      ],
      "id": "6zmZEoWgtMeU"
    },
    {
      "cell_type": "markdown",
      "metadata": {
        "id": "Ve_PZfE8wms8"
      },
      "source": [
        "The null hypothesis would be that the conversion rate for the new page is not greater than the conversion rate for the old page.\n",
        "\n",
        "**Pn ≤ Pe**\n",
        "\n",
        "The alternative hypothesis would be that the conversion rate for the new page is greater than the conversion rate for the old page.\n",
        "\n",
        "**Pn > Pe**\n",
        "\n",
        "The is displayed below as:\n",
        "\n",
        "**Ho:  Pn ≤ Pe**\n",
        "\n",
        "**Ha:  Pn > Pe**\n"
      ],
      "id": "Ve_PZfE8wms8"
    },
    {
      "cell_type": "markdown",
      "metadata": {
        "id": "epXkFviOtSv1"
      },
      "source": [
        " **Step 2:Selecting Appropriate test**\n",
        "\n",
        "This is a one-tailed problem. A two-proportion Z-test will be used to determine whether the two proportions are different from each other.\n",
        "\n",
        "The data is Binomially distributed - users can either be converted or not converted.\n",
        "\n",
        "The sample is randomly selected.\n",
        "\n",
        "Binomial distribution can be approxiamted to a normal distribution \n",
        "\n",
        "\n",
        "1.   when count greater than (10).\n",
        "\n",
        "2.   variation of sample 50 is well over 30\n",
        "\n",
        "3.   The count check also allows for the use of Z-test\n",
        "\n",
        "> **Testing to see if the data satisties the Z-test assumptions.**\n",
        "\n",
        "    Pn =' ,50 * 33/50, '>= 10\n",
        "    n(1-Pn) =', 50 * (50 - 33)/50, '>= 10\n",
        "    Po =' ,50 * 21/50, '>= 10\n",
        "    n(1-Po) =', 50 * (50 - 21)/50, '>= 10\n",
        "\n"
      ],
      "id": "epXkFviOtSv1"
    },
    {
      "cell_type": "markdown",
      "metadata": {
        "id": "ESqBKSIdtdY8"
      },
      "source": [
        "**Step 3: Deciding the significance level**"
      ],
      "id": "ESqBKSIdtdY8"
    },
    {
      "cell_type": "markdown",
      "metadata": {
        "id": "_XytW4OMtmKx"
      },
      "source": [
        "We will set our significance level to 0.05 because the objective is to compute and analyze at a significant level of 5%.\n",
        "\n",
        "Therefore, we select α = 0.05. \n",
        "\n",
        "\n",
        "\n",
        "---\n",
        "\n"
      ],
      "id": "_XytW4OMtmKx"
    },
    {
      "cell_type": "code",
      "execution_count": 38,
      "metadata": {
        "id": "hl9dZl7mcJXr"
      },
      "outputs": [],
      "source": [
        "sig_level = 0.05"
      ],
      "id": "hl9dZl7mcJXr"
    },
    {
      "cell_type": "markdown",
      "metadata": {
        "id": "iGzVIAkptyel"
      },
      "source": [
        "**Step 4: Collecting and preparing the data**"
      ],
      "id": "iGzVIAkptyel"
    },
    {
      "cell_type": "code",
      "execution_count": 39,
      "metadata": {
        "colab": {
          "base_uri": "https://localhost:8080/"
        },
        "id": "IpFLAnhPryxP",
        "outputId": "cee23ee2-3cde-4792-bcd3-7e713171346e"
      },
      "outputs": [
        {
          "output_type": "stream",
          "name": "stdout",
          "text": [
            "The total number of users who visited the New Landng Page is 50\n",
            "The total number of users who visited the Old Landng Page is 50\n"
          ]
        }
      ],
      "source": [
        "#Create data frame for users in new and old landing page\n",
        "new_page_users = users_new_page['converted']\n",
        "old_page_users = users_old_page['converted']\n",
        "\n",
        "#find total number users on each page\n",
        "print('The total number of users who visited the New Landng Page is', len(new_page_users))\n",
        "print('The total number of users who visited the Old Landng Page is', len(old_page_users))"
      ],
      "id": "IpFLAnhPryxP"
    },
    {
      "cell_type": "code",
      "execution_count": 40,
      "metadata": {
        "colab": {
          "base_uri": "https://localhost:8080/"
        },
        "id": "Bs8fDZNL2L0s",
        "outputId": "02c2a8cc-d889-40b7-a664-7a005e090dab"
      },
      "outputs": [
        {
          "output_type": "stream",
          "name": "stdout",
          "text": [
            "The proportion of users who converted on New Landng Page is 33\n",
            "The proportion of users who converted on Old Landing Page is 21\n"
          ]
        }
      ],
      "source": [
        "#Filter for converted users on new landing page\n",
        "converted_new = users_new_page[users_new_page['converted'] == 'yes']\n",
        "print('The proportion of users who converted on New Landng Page is', len(converted_new))\n",
        "#Filter for converted users on old landing page\n",
        "converted_old = users_old_page[users_old_page['converted'] == 'yes']\n",
        "print('The proportion of users who converted on Old Landing Page is',len(converted_old))\n"
      ],
      "id": "Bs8fDZNL2L0s"
    },
    {
      "cell_type": "markdown",
      "metadata": {
        "id": "94vvSiw-uj_W"
      },
      "source": [
        "**Step 5: Calculate the p-value**"
      ],
      "id": "94vvSiw-uj_W"
    },
    {
      "cell_type": "code",
      "execution_count": 41,
      "metadata": {
        "colab": {
          "base_uri": "https://localhost:8080/"
        },
        "id": "b7f52898",
        "outputId": "63ec77db-1756-40c5-e511-b838f001a8de"
      },
      "outputs": [
        {
          "output_type": "stream",
          "name": "stdout",
          "text": [
            "The p-value is 0.008026308204056278\n"
          ]
        }
      ],
      "source": [
        "from statsmodels.stats.proportion import proportions_ztest # two-proportion Z-test \n",
        "\n",
        "#set the proportion of converted users\n",
        "con_users = np.array([len(converted_new), len(converted_old)])\n",
        "\n",
        "#set the sample size\n",
        "nobs = np.array([len(new_page_users),len(old_page_users)])\n",
        "\n",
        "# the hypothesized population proportion is set at 0 as we are comparing in this case without a hypothesized population proportion.\n",
        "test_stat, p_value2 = proportions_ztest(con_users, nobs, value = 0, alternative = 'larger' )\n",
        "print('The p-value is', str(p_value2))\n"
      ],
      "id": "b7f52898"
    },
    {
      "cell_type": "markdown",
      "metadata": {
        "id": "nABduJ8fvkQy"
      },
      "source": [
        "**Step 6:Compare the p-value**"
      ],
      "id": "nABduJ8fvkQy"
    },
    {
      "cell_type": "code",
      "execution_count": 42,
      "metadata": {
        "colab": {
          "base_uri": "https://localhost:8080/"
        },
        "id": "Nacc0K27g_Z2",
        "outputId": "242bf3d1-9bf8-46da-8987-47a87062cad0"
      },
      "outputs": [
        {
          "output_type": "stream",
          "name": "stdout",
          "text": [
            "As the p-value 0.008026308204056278 is less than the level of significance, we reject the null hypothesis.\n"
          ]
        }
      ],
      "source": [
        "# call function to compare the p-value of the analysis\n",
        "compare_pvalue(p_value2)"
      ],
      "id": "Nacc0K27g_Z2"
    },
    {
      "cell_type": "markdown",
      "metadata": {
        "id": "zAsfSEDGvaLS"
      },
      "source": [
        "**Step 7:Draw inference**\n",
        "\n",
        "Since the p-value of 0.008 is less than the level of significance of 0.05, we have enough statistical evidence to reject the null hypothesis. Hence, there is enough statistical evidence to support the alternative that the conversion rate for users of the new page is greater than the conversion rate of users for the old page."
      ],
      "id": "zAsfSEDGvaLS"
    },
    {
      "cell_type": "markdown",
      "metadata": {
        "id": "d49bfa2d"
      },
      "source": [
        "## 3. Is the conversion and preferred language are independent or related?"
      ],
      "id": "d49bfa2d"
    },
    {
      "cell_type": "markdown",
      "metadata": {
        "id": "sj7q8kEYC-Kd"
      },
      "source": [
        "**Perform Visual Analysis**"
      ],
      "id": "sj7q8kEYC-Kd"
    },
    {
      "cell_type": "code",
      "execution_count": 43,
      "metadata": {
        "colab": {
          "base_uri": "https://localhost:8080/",
          "height": 961
        },
        "id": "ENMh1-9iRAt2",
        "outputId": "94977016-80fa-4d82-c9a4-7b03b58138a4"
      },
      "outputs": [
        {
          "output_type": "display_data",
          "data": {
            "text/plain": [
              "<Figure size 504x504 with 1 Axes>"
            ],
            "image/png": "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\n"
          },
          "metadata": {
            "needs_background": "light"
          }
        },
        {
          "output_type": "display_data",
          "data": {
            "text/plain": [
              "<Figure size 432x576 with 1 Axes>"
            ],
            "image/png": "iVBORw0KGgoAAAANSUhEUgAAAf8AAAH3CAYAAAC1olbTAAAABHNCSVQICAgIfAhkiAAAAAlwSFlzAAALEgAACxIB0t1+/AAAADh0RVh0U29mdHdhcmUAbWF0cGxvdGxpYiB2ZXJzaW9uMy4yLjIsIGh0dHA6Ly9tYXRwbG90bGliLm9yZy+WH4yJAAAgAElEQVR4nO3debhdZXn38e9NyAAkApI4QCAJEChz0DAJpRQZgiAgBUHxBQoKIghWq8KrZVIqhVatlZZBqahFRrVRsUDLIAhIDhAIAfImhEBOoBLCIEgYAvf7x1on7GzPlJMz5OT5fq7rXGfvNTzrXsNev7XWXnvvyEwkSVI5VhvoAiRJUv8y/CVJKozhL0lSYQx/SZIKY/hLklQYw1+SpMIM+vCPiCMj4sZebG9mROxRPz4rIn7ci23/34j4Xm+119T21yPi2Yj4375of1UWEfMiYq9+mM4eEdHa19PRn4qIWyPikwNdx/Lor+1S3RcRm0fE9Ih4KSJOGeh6VkSX4R8RGRGbNnXr1VDsZNo/iIjX6wX9UkQ8FBHfiIi124bJzP/IzH262dbXuxouM7fKzFtXsPR2d/SZ+feZ2es7oIjYCPgCsGVmvqeX2oyIOKVe5n+MiNaIuCYitumN9nvLqhSo9WttRkSs1tDt6xHxgz6c5scjoiUiXo6IpyPi1xGxW19NryciYny9bFbvo/b/ZN/Q19PsT6vSa6Qn6oOoxfU2/vt6fY/sYXNfAm7JzFGZ+Z3erLO/rTRn/p28yM7PzFHAGOCvgZ2B30bEWv00/cFgI2BRZj6zvCN2Mt//DJwKnAK8E9gM+Dmwf0+L7G2DfJ11ZH3giP6YUER8Hvg28PfAu6m2o38FDuqP6XfHqrSOV6V5GYQ+nJkjgfcBk4GvNg/QzfUzDpjZkwJWuvWfmZ3+AQls2tTtLODH9ePRwC+BF4DngNuB1ep+6wPXAQuBx4FTmtq4Fvgx8Afgk+1M+wfA15u6jQKeBk6unx8D3FE/DuBbwDN1mzOArYHjgTeA14GXgV/Uw88Dvgw8CLwGrF5326upxquAl4D7gO06WjZt9QJrAYuBt+rpvVwvi6XLrR7+QKoN6QXgVmCLhn7zgL+ta3uxrmFEO8tor6Zp/aCbbS8z301tTgTeBHbsZLtYG/hhvW6foHoxrda4ToB/BJ6v1/1+db/DgZamtv4GmFo/Hl6P9yTwe+AiYI263x5Aa137/wLXdLCcVwNOAx4DFgFXA+9smN7/qWteBHylcZ23M5/7A/dTbU/zgbMa+o2vt4Gj63qfBb7S0H+Nept4HngY+CLQ2sVr7cvA7LZ1QrU9/aA3t5mG9fcycFgn9QynOjh4qv77NjC8aV18ger19jTw13W/ner1M6ShrY8AD9aPO1w/Dcv0uHqZ/qb+nw3reJd62GOBR+rlewMwrmF6ewOP1svhu8BttLOP6WQ/01ZH23r4MrCAaj8wC/hgD+dlBNU+b1G9DqcB7+6grnnA6fW28zzw723rE3iIKtDahh1Ktf1t3047e9DBdseKb9+X17U9QnVW3NrQv939Y/14XarcWFiP/0tgbMOwE+rl9RLw38CFLLvv3Bm4s16GDwB7dLIdz6Ph9Q1cAPyyocaTqF5zj9fdDgCm123fCWxbd7+Zar/4KtV2uBnLt7/6UTe3l46W9xDg/9bjvgTcC2xY9/sz4CaqDJ4FfLSj5bG0vS4H6Dr8v1HP8ND678+pQni1urgzgGHAxsBcYN+GNt4ADq6HXaM7L8q6+w+Bq+rHx/B2+O9bT3OduoYtgPd28gKfV6/kDRtW2NINpaHGQ+t5+1uqIBvajY17D5pecE3LbTPgj1Q7qaFUL5w5wLCGOu6hCrN3Ur24Pt3BOlpmWt1se5n5bmrv08ATXWwXPwT+k+pgbDzw/4DjGtbJG8CnqDbYE6nCI4A1qTbciQ1tTQOOqB9/C5haz/Mo4BfANxrmcwnwD1QvujU6WM6nAncDY+vhLgZ+UvfbkuqFu3vd75t1mx2F/x7ANlTb6LZUL/CDm16sl9a1bEd1MLVF3f88qoPhd9bL+qHmWtt5rU2k2oY/WXdbGv69vM1Mqed79U7qOadeju+iuvJ2J/C1pnVxTl3Lh4BXgHXr/o8Beze0dQ1wWjfWT9sy/SHVQfQaNAVxPdxB9bxvQXXQ/lXgzrrfaKptrO11+zd1rT0Kf2BzqmBcv6HfJj2clxOotuk1qV4b7wfe0UFd8+ptZsN6ff6Wt/cvX6LeBzYsjxnd2T/08vZ9G1WQj6U66Oxu+K8H/FW9HEbV28fPG4a9iypUhwG7UR2ctO07N6AKzg/Vde9dPx/TyXJs26dvSHXw/LWGGm+ql+8awPZUB7M71evn6Hr8toPeW2nYjlj+/VV3tpeOlvcXqU5oN6fal25XL8e1qLbPv6baXrenOnDYstN9eGc921uBdbezGlbEOVQh0DzMTsCTTd1OB/69oY3fdDHtpRtLU/fzgJvqx8fwdvjvSRVCO1OfhXbxAp8HHNvJhnIWcHdDv9WoznD+vBsb9x50Hv5/B1zd1PYC6iPYuo5PNPQ/H7ioOy/ubrZ9bHtt1f2/0jjf7fQfQnUVZcuGbicAtzaskzkN/dasl9V76uc/Bs6oH0+k2lGvSbVB/5F6x1r334W3j8j3qKc7oqN5r7s9Qn1mVj9/L9XByOpUB6NXNvRbq26z3fBvZ96/DXyr6cXaeMZyD28fyMwFpjT0O7651vZea1Q7tSeodnyN4d+b28yRwP92Ma+PAR9qeL4vMK9huS9m2UB+Bti5fvx14LL68ah6vY7rxvppW6YbN/Rv69Y4rV9TH2w2LItXqC7LHsWyr9ugOgPrafhvWs/bXtQH/t3c1tqbl2NpOJvsYvnPo+Hgrd4uHqsfr0/1unlH/fxa4Evd2T/08va9b0O/T9LN8G9nupOA5+vHG1GF5poN/X/M2/vOLwM/ahr/BuDoTpbjy1Rn8k9QvbW1RkONezYM+2/UBwYN3WYBf1E/vpW3D8x7sr/qzvbS0fKeBRzUzvwdDtze1O1i4MzO1nV33vN/k+roudHQumCoLqHMAW6MiLkRcVrdfRywfkS80PZHdcni3Q3tzO/G9NuzAdXljWVk5s1Ul/guBJ6JiEsi4h1dtNVVDUv7Z+ZbVDuR9Zev3HatT7UhNrY9n2re2jTeuf8K0N2bVLrTdmfzvYhqo+zIaKpt4ImGbk/QQe2Z+Ur9sK3+K4CP1Y8/TnXE/wrV2eWawL0N28x/1d3bLMzMVzupDapt72cNbTxCtR2/m2rZNK7TP9bz266I2CkibomIhRHxItVVkdFNg3W0npaZFssurw5l5vVU29kJTb16vM3UN/K9XP8dSTXPo7t4H3KZ6dWPG7f9RZm5pL3pUa3jQyJiOHAIcF9mtrXV2fpp09Xrchzwzw1tPEe1M96AP13H2UV7S2h/H/cW8FZmzgE+R3Xw/kxEXBkRbctheeflR1RBdWVEPBUR50dE87QbNW8/69fz9BTVlYC/ioh1gP2A/+iknXb18vbd7f15RKwZERdHxBMR8QeqS/zrRMSQut3nGvYbzW2PAw5rypbd6HyfdXBmrpOZ4zLzM5m5uJO2v9DU9oa0v8/vyf6qO9tLR8t7Q6oD8mbjgJ2aaj4S6PTm7+6E/5NURySNJlDvFDLzpcz8QmZuTPV+5Ocj4oNUC/TxeoG3/Y3KzA81tJPdmP4y6rs096K6nPonMvM7mfl+qsu7m1FdKulsWl3VsGHDtFejulzzVN3pFaqV36ZxYXfV7lNUK62t7aintaCL8bqjO213Vt//AGMjYnIH/Z+lOvgb19BtI7pf+03AmIiYRHUQcEVDu4uBrRq2mbWzulGno7rbm4/5VPcYNG57IzJzAdWVm8Z1uibVpbOOXEF1WW/DzFyb6i2u6OZ8LjMtqmXUXV+hOlhu3L56vM1k5n6ZObL++w+qy6qvUb3t1pFlpkdV/1MdDNs8vYep9hH7UR3gXdHQu7P1s7SJDh43tnFCUxtrZOad/Ok6DpZdD8062sfNrw+wyMwrMnM3quWRVJdyl3teMvONzDw7M7cEPkD1/vJRndTWvP00Lv/LgU8AhwF3NU2zu1Z0+x7bQa3Q+f7xC1SXr3fKzHdQvQ1HPe2ngXfWr8322p5PdebfuMzXyszzull3s8btaz5wblPba2bmT9oZryf7q+5sLx2ZD2zSQffbmtocmZkndtZYd8L/KuCrETE2IlaL6nOnH6a6zEREHBARm9YvsBepjmLeorpc8VJEfDki1oiIIRGxdUTs0I1p/omIGB4R76e647zt5pfmYXaoj2SHUl2OebWuBar3sjbuwaTfHxGH1GdIn6PaYd5d95sOfLyetynAXzSM93tgvWj4WGKTq4H9I+KDdb1fqNu+swc19mrbmTmb6tLYT+qPCQ2LiBERcUREnJaZb9bTODciRkXEOODzVJfmutP+G1Tv8V1A9V7ZTXX3t6je7/pWRLwLICI2iIh9O2muveV8UV3buLqNMRHRdgf7tcABEbFbRAyjetuqs9fBKKqzkFcjYkeqIOuuq4HTI2LdiBgLfLa7I2b1cdOHqN5zbGyvV7aZzHyR6i2QCyPi4PpMbGhE7BcR59eD/YTqtT8mIkbXwy/PR3yvoHqPc3eq9d2ms/XTnoVUr+PG1+9FVMt2q7qNtSPisLrfr4CtGl63p9D5WdB1VMt1n/q1vD7VPQRX1m1vHhF71lcxXuXtm0yXe14i4i8jYpv6DPcPVAfRb3U0PHBSve99J9UB4VUN/X5Odff6qVT3FXSqfg03/gW9t31vAJzc1L+z/eMoquX4Qj1vZ7b1qK8QtQBn1fueXagyp82PgQ9HxL512yPq/VTjgUhPXQp8us6RiIi1ImL/iBjVPGAP91fLu+03+h7wtYiYWNe2bUSsR3Wz5GYR8X/q1/DQOgu36Kyx7oT/OVQ7lzuoQvd84MjMfKjuP5HqbsyXqc4m/jUzb6kD4gCq93IepzpK+h7VXcbL40sR8RLVZcofUt0M9YH6cm2zd1CtjOd5+27uC+p+3we2jOqyyM+XY/r/SfWeyvNUd4kfUocXVC+6D1O9l3Qk1YsRgMx8lGrnObee5jKXjTJzFtVR+79QLZsPU929+/py1NauXmr7FN5+C+UFqstNH6G6oQWqIPsj1ft+d1Dt6C9bjvavoLqCc03TpeMvU72NdHdUlwP/m+oMoV0dLOd/pjqbubHedu6mugeFzJxJdXfvFVRnGM9TXWLvyGeAc+p2zqDa4XXX2VTb4ePAjVSXfJfHV6kOjoDe32Yy85+oDtq+ShWw86l24G3b8depdsIPUt1odF/drbt+QrXDvzkzn23o3uH66aDOV4BzqT7i+0JE7JyZP6M6+76y3k4eorrKQD2tw6juDVpEtY/6bSftz6S6AvUNqrcP7gJ+R7X+oLox6zyqZf6/VDdAnt6TeaE6CLmWKvgfobphrrPt4gqqbWcu1Wtw6fKvL11fR3WV4qedtAHV2yGLm/42YcW273OoXjuPU71Or6U6GG3T4f6R6t6CNaiW6d1Ul8sbHUn1/vkiqnm+qq3tzJxPdYPj/+Xt7faL9MJH1zOzhepG5e9S7RvmUN3D1JHl2l+x/NtLo29SrZ8bqbaf71Pdu/ASsA/VR4SfotpG224y7FBUb4dJkgabiDgD2CwzP7ES1HIi1c1pf9HlwMvf9lXAo5l5ZpcDq1tWmi/5kSR1X325/DjgkgGa/nsjYteo3g7enOptqJ/1Uts7RMQmddtTqM70l+eKrbpg+EvSIBMRn6K63P3rzPzNAJUxjOojZS9RfQHOf1LdK9Qb3kP1sbqXge8AJ2bm/b3UtvCyvyRJxfHMX5Kkwhj+kiQVZuX6laFV0OjRo3P8+PEDXYYkDSr33nvvs5k5push1ROGfx8bP348LS0tA12GJA0qEdGtr8NWz3jZX5Kkwhj+kiQVxvCXJKkwvucvSX3gjTfeoLW1lVdf7eoXqMs2YsQIxo4dy9Chnf2ysXqb4S9JfaC1tZVRo0Yxfvx4qh/QU7PMZNGiRbS2tjJhwoSBLqcoXvaXpD7w6quvst566xn8nYgI1ltvPa+ODADDX5L6iMHfNZfRwDD8JWkVNWTIECZNmrT077zzzutxWyNHjgTgqaee4tBDD+1wuHnz5rH11lv3eDrqH77nL0n9YPxpv+rV9uadt3+Xw6yxxhpMnz69V6e7/vrrc+211/Zqm+p/nvlLUmHGjx/PmWeeyfve9z622WYbHn30UQAWLlzI3nvvzVZbbcUnP/lJxo0bx7PPPrvMuI1n9jNnzmTHHXdk0qRJbLvttsyePRuAN998k0996lNstdVW7LPPPixevLh/Z1BdMvwlaRW1ePHiZS77X3XVVUv7jR49mvvuu48TTzyRf/zHfwTg7LPPZs8992TmzJkceuihPPnkk522f9FFF3Hqqacyffp0WlpaGDt2LACzZ8/mpJNOYubMmayzzjpcd911fTeT6hEv+0vSKqqzy/6HHHIIAO9///v56U9/CsAdd9zBz372MwCmTJnCuuuu22n7u+yyC+eeey6tra0ccsghTJw4EYAJEyYwadKkpe3PmzevN2ZHvcgzf0kq0PDhw4HqpsAlS5b0qI2Pf/zjTJ06lTXWWIMPfehD3Hzzzcu0vaLtq+8Y/pIkAHbddVeuvvpqAG688Uaef/75ToefO3cuG2+8MaeccgoHHXQQDz74YH+UqV5g+EvSKqr5Pf/TTjut0+HPPPNMbrzxRrbeemuuueYa3vOe9zBq1KgOh7/66qvZeuutmTRpEg899BBHHXVUb8+C+khk5kDXsEqbPHlytrS0DHQZkvrZI488whZbbDHQZSyX1157jSFDhrD66qtz1113ceKJJ/b6RwXb096yioh7M3Nyn0+8UN7wJ0kC4Mknn+SjH/0ob731FsOGDePSSy8d6JLURwx/SRIAEydO5P777x/oMtQPDH8NjLPW7ufpvdi/05OklZg3/EmSVBjDX5Kkwhj+kiQVxvCXpFVU80/69tXX7N56660ccMABfdK2+oY3/ElSf+jtm1y7cRNrZ9/tn5lkJqut5jlgiVzrklSIefPmsfnmm3PUUUex9dZbM3/+fC644AJ22GEHtt12W84888ylw22xxRbt/izvnDlz2Guvvdhuu+143/vex2OPPQbAyy+/zKGHHsqf/dmfceSRR+IXyK3cDH9JWkU1fr3vRz7yEaD6ud3PfOYzzJw5k1mzZjF79mzuuecepk+fzr333stvfvObpcO197O8Rx55JCeddBIPPPAAd955J+9973sBuP/++/n2t7/Nww8/zNy5c/ntb387MDOtbvGyvyStopov+8+bN49x48ax8847A9WP99x4441sv/32QHX2Pnv2bDbaaKN2f5b3pZdeYsGCBUsPJEaMGLG07R133JGxY8cCLL2/YLfdduuX+dTyM/wlqSBrrbXW0seZyemnn84JJ5ywzDDz5s37k5/lbbvs3xF/xndwKfKyf0RMiYhZETEnIjr8mauI+KuIyIiY3NDt9Hq8WRGxb/9ULEm9b9999+Wyyy7j5ZdfBmDBggU888wzHQ4/atQoxo4dy89//nOg+iGgV155pV9qVe8q7sw/IoYAFwJ7A63AtIiYmpkPNw03CjgV+F1Dty2BI4CtgPWB/46IzTLzzf6qX5J6yz777MMjjzzCLrvsAsDIkSP58Y9/zJAhQzoc50c/+hEnnHACZ5xxBkOHDuWaa67pr3LVi4r7Sd+I2AU4KzP3rZ+fDpCZ32ga7tvATcAXgb/NzJbmYSPihrqtuzqanj/p2wG/21+ruMH4k74DxZ/07X8lXvbfAJjf8Ly17rZURLwP2DAzf7W849bjHx8RLRHRsnDhwt6pWpKkXlJi+HcqIlYDvgl8oadtZOYlmTk5MyePGTOm94qTJKkXFPeeP7AA2LDh+di6W5tRwNbArREB8B5gakQc2I1xJUla6ZV45j8NmBgREyJiGNUNfFPbembmi5k5OjPHZ+Z44G7gwMxsqYc7IiKGR8QEYCJwT//PgiRJPVfcmX9mLomIk4EbgCHAZZk5MyLOAVoyc2on486MiKuBh4ElwEne6S9JGmyKC3+AzLweuL6p2xkdDLtH0/NzgXP7rDhJkvpYiZf9JakI5557LltttRXbbrstkyZN4ne/+13XIy2HD3zgA532HzlyZK9OT72nyDN/Sepv21y+Ta+2N+PoGZ32v+uuu/jlL3/Jfffdx/Dhw3n22Wd5/fXXe7WGO++8s1fbU//xzF+SVkFPP/00o0ePXvqd+6NHj2b99ddn/PjxfOlLX2KbbbZhxx13ZM6cOQD84he/YKeddmL77bdnr7324ve//z0AZ511Fsceeyx77LEHG2+8Md/5zneWTqPtzP7pp59m9913Z9KkSWy99dbcfvvtS4f5yle+wnbbbcfOO++8tE0NPMNfklZB++yzD/Pnz2ezzTbjM5/5DLfddtvSfmuvvTYzZszg5JNP5nOf+xwAu+22G3fffTf3338/RxxxBOeff/7S4R999FFuuOEG7rnnHs4++2zeeOONZaZ1xRVXsO+++zJ9+nQeeOCBpb8G+Mc//pGdd96ZBx54gN13351LL720H+Zc3eFlf0laBY0cOZJ7772X22+/nVtuuYXDDz+c8847D4CPfexjS///zd/8DQCtra0cfvjhPP3007z++utMmDBhaVv7778/w4cPZ/jw4bzrXe/i97///dKf7wXYYYcdOPbYY3njjTc4+OCDl4b/sGHDOOCAA4DqZ4Fvuummfpl3dc0zf0laRQ0ZMoQ99tiDs88+m+9+97tcd911ANRfYLbM489+9rOcfPLJzJgxg4svvphXX3116TBd/Vzv7rvvzm9+8xs22GADjjnmGH74wx8CMHTo0KXt+zO/KxfP/CWt9Maf1vwzG31r3nn79+v0+sKsWbNYbbXVmDhxIgDTp09n3LhxzJgxg6uuuorTTjuNq666aukv+r344otssEH1UyWXX375ck3riSeeYOzYsXzqU5/itdde47777uOoo47q3RlSrzL8JWkV9PLLL/PZz36WF154gdVXX51NN92USy65hF/+8pc8//zzbLvttgwfPpyf/OQnQHVj32GHHca6667LnnvuyeOPP97tad16661ccMEFDB06lJEjRy4989fKq7if9O1v/qRvB/xJXy2HwXjmv7L+pO/48eNpaWlh9OjRA13KUv6kb//zPX9JkgrjZX9JKsi8efMGugStBDzzlySpMIa/JPUR76nqmstoYBj+ktQHRowYwaJFiwy3TmQmixYtYsSIEQNdSnF8z1+S+sDYsWNpbW1l4cKFA13KSm3EiBHLfFug+ofhL0l9YOjQoct8Ra60MvGyvyRJhTH8JUkqjOEvSVJhDH9Jkgpj+EuSVBjDX5Kkwhj+kiQVxvCXJKkwhr8kSYUx/CVJKozhL0lSYQx/SZIKY/hLklQYw1+SpMIY/pIkFcbwlySpMIa/JEmFMfwlSSqM4S9JUmEMf0mSCmP4S5JUGMNfkqTCGP6SJBXG8JckqTCGvyRJhSky/CNiSkTMiog5EXFaO/0/HREzImJ6RNwREVvW3cdHxOK6+/SIuKj/q5ckacWsPtAF9LeIGAJcCOwNtALTImJqZj7cMNgVmXlRPfyBwDeBKXW/xzJzUn/WLElSbyrxzH9HYE5mzs3M14ErgYMaB8jMPzQ8XQvIfqxPkqQ+VWL4bwDMb3jeWndbRkScFBGPAecDpzT0mhAR90fEbRHx531bqiRJva/E8O+WzLwwMzcBvgx8te78NLBRZm4PfB64IiLe0TxuRBwfES0R0bJw4cL+K1qSpG4oMfwXABs2PB9bd+vIlcDBAJn5WmYuqh/fCzwGbNY8QmZekpmTM3PymDFjeq1wSZJ6Q3E3/AHTgIkRMYEq9I8APt44QERMzMzZ9dP9gdl19zHAc5n5ZkRsDEwE5vZb5eqxbS7fpl+nN+PoGf06PUlaHsWFf2YuiYiTgRuAIcBlmTkzIs4BWjJzKnByROwFvAE8Dxxdj747cE5EvAG8BXw6M5/r/7mQJKnnigt/gMy8Hri+qdsZDY9P7WC864Dr+rY6SZL6Vonv+UuSVDTDX5Kkwhj+kiQVxvCXJKkwhr8kSYUx/CVJKozhL0lSYQx/SZIKY/hLklQYw1+SpMIY/pIkFabI7/aXpJWFvzipgeCZvyRJhTH8JUkqjOEvSVJhDH9Jkgpj+EuSVBjDX5Kkwhj+kiQVxvCXJKkwhr8kSYUx/CVJKozhL0lSYQx/SZIKY/hLklQYw1+SpMIY/pIkFcbwlySpMIa/JEmFMfwlSSqM4S9JUmEMf0mSCmP4S5JUGMNfkqTCGP6SJBXG8JckqTCGvyRJhTH8JUkqjOEvSVJhDH9Jkgpj+EuSVJgiwz8ipkTErIiYExGntdP/0xExIyKmR8QdEbFlQ7/T6/FmRcS+/Vu5JEkrrrjwj4ghwIXAfsCWwMcaw712RWZuk5mTgPOBb9bjbgkcAWwFTAH+tW5PkqRBo7jwB3YE5mTm3Mx8HbgSOKhxgMz8Q8PTtYCsHx8EXJmZr2Xm48Ccuj1JkgaN1Qe6gAGwATC/4XkrsFPzQBFxEvB5YBiwZ8O4dzeNu0HflClJUt8o8cy/WzLzwszcBPgy8NXlGTcijo+IlohoWbhwYd8UKElSD5UY/guADRuej627deRK4ODlGTczL8nMyZk5ecyYMStYriRJvavE8J8GTIyICRExjOoGvqmNA0TExIan+wOz68dTgSMiYnhETAAmAvf0Q82SJPWa4t7zz8wlEXEycAMwBLgsM2dGxDlAS2ZOBU6OiL2AN4DngaPrcWdGxNXAw8AS4KTMfHNAZkSSpB4qLvwBMvN64Pqmbmc0PD61k3HPBc7tu+okSepbJV72lySpaIa/JEmFMfwlSSqM4S9JUmEMf0mSCmP4S5JUGMNfkqTCGP6SJBXG8JckqTCGvyRJhTH8JUkqjOEvSVJhDH9Jkgpj+EuSVBjDX5Kkwhj+kiQVxvCXJKkwqw90AZK00jlr7f6b1oSN+m9aUs0zf0mSCmP4S5JUGMNfkqTCGP6SJBXG8JckqTCGvyRJhTH8JUkqjOEvSVJhDH9Jkgpj+OXa5FMAABUjSURBVEuSVBjDX5Kkwhj+kiQVxvCXJKkwhr8kSYUx/CVJKozhL0lSYQx/SZIKY/hLklQYw1+SpMIY/pIkFcbwlySpMIa/JEmFMfwlSSpMkeEfEVMiYlZEzImI09rp//mIeDgiHoyI/4mIcQ393oyI6fXf1P6tXJKkFbf6QBfQ3yJiCHAhsDfQCkyLiKmZ+XDDYPcDkzPzlYg4ETgfOLzutzgzJ/Vr0ZIk9aISz/x3BOZk5tzMfB24EjiocYDMvCUzX6mf3g2M7ecaJUnqMyWG/wbA/IbnrXW3jhwH/Lrh+YiIaImIuyPi4L4oUJKkvlTcZf/lERGfACYDf9HQeVxmLoiIjYGbI2JGZj7WNN7xwPEAG220Ub/VK0lSd5R45r8A2LDh+di62zIiYi/gK8CBmflaW/fMXFD/nwvcCmzfPG5mXpKZkzNz8pgxY3q3ekmSVlCJ4T8NmBgREyJiGHAEsMxd+xGxPXAxVfA/09B93YgYXj8eDewKNN4oKEnSSq+4y/6ZuSQiTgZuAIYAl2XmzIg4B2jJzKnABcBI4JqIAHgyMw8EtgAujoi3qA6czmv6lIAkSSu94sIfIDOvB65v6nZGw+O9OhjvTmCbvq1OkqS+VeJlf0mSimb4S5JUGMNfkqTCGP6SJBXG8JckqTCGvyRJhSnyo376U+NP+1W/Tm/eiH6dnCSpgWf+kiQVxvCXJKkwhr8kSYUx/CVJKozhL0lSYQx/SZIKY/hLklQYw1+SpMIM6vCPiF27002SJL1tUIc/8C/d7CZJkmqD8ut9I2IX4APAmIj4fEOvdwBDBqYqSZIGh0EZ/sAwYCRV/aMauv8BOHRAKpIkaZAYlOGfmbcBt0XEDzLziYGuR5KkwWRQhn+D4RFxCTCehnnJzD0HrCJJklZygz38rwEuAr4HvDnAtUiSNCgM9vBfkpn/NtBFSJI0mAz2j/r9IiI+ExHvjYh3tv0NdFGSJK3MBvuZ/9H1/y82dEtg4wGoRZKkQWFQh39mThjoGiRJGmwGdfhHxFHtdc/MH/Z3LZIkDRaDOvyBHRoejwA+CNwHGP6SJHVgUId/Zn628XlErANcOUDlSJI0KAz2u/2b/RHwPgBJkjoxqM/8I+IXVHf3Q/WDPlsAVw9cRZIkrfwGdfgD/9jweAnwRGa2DlQxkiQNBoP6sn/9Az+PUv2y37rA6wNbkSRJK79BHf4R8VHgHuAw4KPA7yLCn/SVJKkTg/2y/1eAHTLzGYCIGAP8N3DtgFYlSdJKbFCf+QOrtQV/bRGDf54kSepTg/3M/78i4gbgJ/Xzw4HrB7AeSZJWeoMy/CNiU+DdmfnFiDgE2K3udRfwHwNXmSRJK79BGf7At4HTATLzp8BPASJim7rfhweuNEmSVm6D9f3xd2fmjOaOdbfx/V+OJEmDx2AN/3U66bdGv1UhSdIgNFjDvyUiPtXcMSI+Cdw7APVIkjRoDNbw/xzw1xFxa0T8U/13G3AccGpXI0fElIiYFRFzIuK0dvp/PiIejogHI+J/ImJcQ7+jI2J2/Xd0r86VJEn9YFDe8JeZvwc+EBF/CWxdd/5VZt7c1bgRMQS4ENgbaAWmRcTUzHy4YbD7gcmZ+UpEnAicDxweEe8EzgQmU/2g0L31uM/32sxJktTHBmX4t8nMW4BblnO0HYE5mTkXICKuBA4CloZ/3W6bu4FP1I/3BW7KzOfqcW8CpvD29wxIkrTSG6yX/VfEBsD8huetdbeOHAf8ennGjYjjI6IlIloWLly4guVKktS7Sgz/bouIT1Bd4r9gecbLzEsyc3JmTh4zZkzfFCdJUg+VGP4LgA0bno+tuy0jIvai+uGgAzPzteUZV5KklVmJ4T8NmBgREyJiGHAEMLVxgIjYHriYKvgbfzjoBmCfiFg3ItYF9qm7SZI0aAzqG/56IjOXRMTJVKE9BLgsM2dGxDlAS2ZOpbrMPxK4JiIAnszMAzPzuYj4GtUBBMA5bTf/SZI0WBQX/gCZeT1Nv/6XmWc0PN6rk3EvAy7ru+okSepbJV72lySpaIa/JEmFMfwlSSqM4S9JUmEMf0mSCmP4S5JUGMNfkqTCGP6SJBXG8JckqTCGvyRJhTH8JUkqjOEvSVJhDH9Jkgpj+EuSVBjDX5Kkwhj+kiQVxvCXJKkwhr8kSYUx/CVJKozhL0lSYQx/SZIKY/hLklQYw1+SpMIY/pIkFcbwlySpMIa/JEmFMfwlSSqM4S9JUmEMf0mSCmP4S5JUGMNfkqTCGP6SJBXG8JckqTCGvyRJhTH8JUkqjOEvSVJhDH9Jkgpj+EuSVBjDX5Kkwhj+kiQVxvCXJKkwRYZ/REyJiFkRMSciTmun/+4RcV9ELImIQ5v6vRkR0+u/qf1XtSRJvWP1gS6gv0XEEOBCYG+gFZgWEVMz8+GGwZ4EjgH+tp0mFmfmpD4vVJKkPlJc+AM7AnMycy5ARFwJHAQsDf/MnFf3e2sgCpQkqS+VeNl/A2B+w/PWult3jYiIloi4OyIObm+AiDi+HqZl4cKFK1KrJEm9rsTwX1HjMnMy8HHg2xGxSfMAmXlJZk7OzMljxozp/wolSepEieG/ANiw4fnYulu3ZOaC+v9c4FZg+94sTpKkvlZi+E8DJkbEhIgYBhwBdOuu/YhYNyKG149HA7vScK+AJEmDQXHhn5lLgJOBG4BHgKszc2ZEnBMRBwJExA4R0QocBlwcETPr0bcAWiLiAeAW4LymTwlIkrTSK/FufzLzeuD6pm5nNDyeRvV2QPN4dwLb9HmBkiT1oeLO/CVJKp3hL0lSYQx/SZIKY/hLklQYw1+SpMIY/pIkFcbwlySpMIa/JEmFMfwlSSqM4S9JUmEMf0mSCmP4S5JUGMNfkqTCGP6SJBXG8JckqTCGvyRJhTH8JUkqjOEvSVJhDH9Jkgpj+EuSVBjDX5Kkwhj+kiQVxvCXJKkwhr8kSYUx/CVJKozhL0lSYQx/SZIKY/hLklQYw1+SpMIY/pIkFcbwlySpMIa/JEmFMfwlSSqM4S9JUmEMf0mSCmP4S5JUGMNfkqTCGP6SJBXG8JckqTCGvyRJhTH8JUkqTJHhHxFTImJWRMyJiNPa6b97RNwXEUsi4tCmfkdHxOz67+j+q1qSpN5RXPhHxBDgQmA/YEvgYxGxZdNgTwLHAFc0jftO4ExgJ2BH4MyIWLeva5YkqTcVF/5UoT0nM+dm5uvAlcBBjQNk5rzMfBB4q2ncfYGbMvO5zHweuAmY0h9FS5LUW0oM/w2A+Q3PW+tuvTZuRBwfES0R0bJw4cIeFypJUl8oMfz7XGZekpmTM3PymDFjBrocSZKWUWL4LwA2bHg+tu7W1+NKkrRSKDH8pwETI2JCRAwDjgCmdnPcG4B9ImLd+ka/fepukiQNGsWFf2YuAU6mCu1HgKszc2ZEnBMRBwJExA4R0QocBlwcETPrcZ8DvkZ1ADENOKfuJknSoLH6QBcwEDLzeuD6pm5nNDyeRnVJv71xLwMu69MCJUnqQ8Wd+UuSVDrDX5Kkwhj+kiQVxvCXJKkwhr8kSYUx/CVJKozhL0lSYQx/SZIKY/hLklQYw1+SpMIY/pIkFcbwlySpMIa/JEmFMfwlSSqM4S9JUmEMf0mSCmP4S5JUGMNfkqTCGP6SJBXG8JckqTCGvyRJhTH8JUkqjOEvSVJhDH9Jkgpj+EuSVBjDX5Kkwhj+kiQVxvCXJKkwhr8kSYUx/CVJKozhL0lSYQx/SZIKY/hLklQYw1+SpMIY/pIkFcbwlySpMIa/JEmFMfwlSSqM4S9JUmEMf0mSCmP4S5JUmCLDPyKmRMSsiJgTEae10394RFxV9/9dRIyvu4+PiMURMb3+u6i/a5ckaUWtPtAF9LeIGAJcCOwNtALTImJqZj7cMNhxwPOZuWlEHAH8A3B43e+xzJzUr0VLktSLSjzz3xGYk5lzM/N14ErgoKZhDgIurx9fC3wwIqIfa5Qkqc+UGP4bAPMbnrfW3dodJjOXAC8C69X9JkTE/RFxW0T8eXsTiIjjI6IlIloWLlzYu9VLkrSCSgz/FfE0sFFmbg98HrgiIt7RPFBmXpKZkzNz8pgxY/q9SEmSOlNi+C8ANmx4Prbu1u4wEbE6sDawKDNfy8xFAJl5L/AYsFmfVyxJUi8qMfynARMjYkJEDAOOAKY2DTMVOLp+fChwc2ZmRIypbxgkIjYGJgJz+6luSZJ6RXF3+2fmkog4GbgBGAJclpkzI+IcoCUzpwLfB34UEXOA56gOEAB2B86JiDeAt4BPZ+Zz/T8XkiT1XHHhD5CZ1wPXN3U7o+Hxq8Bh7Yx3HXBdnxcoSVIfKvGyvyRJRTP8JUkqjOEvSVJhDH9Jkgpj+EuSVBjDX5Kkwhj+kiQVxvCXJKkwhr8kSYUx/CVJKozhL0lSYQx/SZIKY/hLklQYw1+SpMIY/pIkFcbwlySpMIa/JEmFMfwlSSqM4S9JUmEMf0mSCmP4S5JUGMNfkqTCGP6SJBXG8JckqTCGvyRJhTH8JUkqjOEvSVJhDH9Jkgpj+EuSVBjDX5Kkwhj+kiQVxvCXJKkwhr8kSYUx/CVJKozhL0lSYQx/SZIKY/hLklQYw1+SpMIY/pIkFcbwlySpMIa/JEmFKTL8I2JKRMyKiDkRcVo7/YdHxFV1/99FxPiGfqfX3WdFxL79WbckSb2huPCPiCHAhcB+wJbAxyJiy6bBjgOez8xNgW8B/1CPuyVwBLAVMAX417o9SZIGjeLCH9gRmJOZczPzdeBK4KCmYQ4CLq8fXwt8MCKi7n5lZr6WmY8Dc+r2JEkaNEoM/w2A+Q3PW+tu7Q6TmUuAF4H1ujmuJEkrtdUHuoBVUUQcDxxfP305ImYNZD0ro+j5qKOBZ5d/tId6PsUeiGNWYA414Pp3+3Tb7MC4gS5gVVZi+C8ANmx4Prbu1t4wrRGxOrA2sKib45KZlwCX9GLNqkVES2ZOHug6pPa4fWqwKPGy/zRgYkRMiIhhVDfwTW0aZipwdP34UODmzMy6+xH1pwEmABOBe/qpbkmSekVxZ/6ZuSQiTgZuAIYAl2XmzIg4B2jJzKnA94EfRcQc4DmqAwTq4a4GHgaWACdl5psDMiOSJPVQVCe00uAQEcfXb6tIKx23Tw0Whr8kSYUp8T1/SZKKZvhLklQYw1+SpMIY/lrpRcTaEfGtiGip//4pItYe6LqkiDgsIkbVj78aET+NiPcNdF1SVwx/DQaXAX8APlr//QH49wGtSKr8XWa+FBG7AXtRfUz43wa4JqlLhr8Gg00y88z6x5jmZubZwMYDXZQEtH3Px/7AJZn5K2DYANYjdYvhr8FgcX1mBUBE7AosHsB6pDYLIuJi4HDg+ogYjvtVDQJ+zl8rvYiYRPUTy23v8z8PHJ2ZDw5cVRJExJrAFGBGZs6OiPcC22TmjQNcmtSp4r7eV4PSI8D5wCbAOlQ/sXwwYPhrQGXmKxHxDLAbMJvqa79nD2xVUtcMfw0G/wm8ANxHO7+iKA2UiDgTmAxsTnUT6lDgx8CuA1mX1BXDX4PB2MycMtBFSO34CLA91YEpmflU20f/pJWZN6ZoMLgzIrYZ6CKkdrxe/9x3AkTEWgNcj9QtnvlrMNgNOCYiHgdeAwLIzNx2YMuSuLq+23+diPgUcCxw6QDXJHXJ8NdgsN9AFyB14HXgv6m+eGpz4IzMvGlgS5K6ZvhrpZeZTwx0DVIH3gWcQvWe/2VUBwLSSs/P+UvSCoiIAPYB/prqzv+rge9n5mMDWpjUCW/4k6QVUN/w97/13xJgXeDaiDh/QAuTOuGZvyT1UEScChwFPAt8D/h5Zr4REasBszNzkwEtUOqA7/lLUs+9Ezik+b6UzHwrIg4YoJqkLnnmL0lSYXzPX5Kkwhj+kiQVxvCXVkBEvBkR0yPioYi4pv6J1+UZ/4KImBkRF/RVjQ3TmhcRo7vbXdKqy/CXVszizJyUmVtTfdvbpxt7RkRXN9UeD2ybmV/szsSa2+tG+5L0Jwx/qffcDmwaEXtExO0RMRV4OCKG1Gf40yLiwYg4AaDuPxK4NyIOj4gxEXFdPdy0iNi1Hu6siPhRRPwW+FE7zzsab72IuLG+svA9qt9E6JaI2DEi7oqI+yPizojYvO5+TET8NCL+KyJmN36WPSKOi4j/FxH3RMSlEfHduvsPIuLQhuFerv+PjIj/iYj7ImJGRBzUMMzfRcSsiLgjIn4SEX9bd9+knva99TL+sx6tKalwnjVIvaA+A98P+K+60/uArTPz8Yg4HngxM3eIiOHAbyPixsw8MCJezsxJdRtXAN/KzDsiYiPgBmCLur0tgd0yc3FEnNX0vKPxzgTuyMxzImJ/4LjlmKVHgT/PzCURsRfw98Bf1f0mUf2M7WvArIj4F+BN4O/q+X4JuBl4oItpvAp8JDP/UL/tcHd9QDS5ntZ2wFCqr869tx7nEuDTmTk7InYC/hXYcznmSxKGv7Si1oiI6fXj24HvAx8A7snMx+vu+wDbNpz9rg1MBB5nWXsBW1bfFgvAOyJiZP14amYubhi28XlH4+0OHAKQmb+KiOeXY77WBi6PiIlUP1c7tKHf/2TmiwAR8TAwDhgN3JaZz9XdrwE262IaAfx9ROwOvAVsALwb2BX4z8x8FXg1In5RtzmSatle0zCvw5djniTVDH9pxSxuO3NvUwfTHxs7AZ/NzBu6aGs1YOc69Dprr/l5Z+P11NeAWzLzIxExHri1od9rDY/fpOv9yJK6RupvvhtWdz8SGAO8v/5WvHnAiE7aWQ14oXl5S1p+vucv9b0bgBMjYihARGwWEWu1M9yNwGfbnkREd0Ouo/F+A3y87rYf1XfOd9fawIL68THdGH4a8BcRsW79FshfNfSbB7y/fnwgb19FWBt4pg7+v6S6ggDwW+DDETGiPts/ACAz/wA8HhGH1fMUEbHdcsyTpJrhL/W97wEPA/dFxEPAxbR/tnwKMLm+KfBhmj450ImOxjsb2D0iZlJd/n+ykzYejIjW+u+bwPnANyLi/g5qXUZmLqC6L+AeqvCeB7xY976U6sDgAWAX3r5q8R913TOovh//0bqtacBU4EHg18CMhraOBI6r25oJLL1JUFL3+fW+knpFRIzMzJfrM/+fAZdl5s9WsK01qa5gHJ+Z9/VmvVLJfM9fUm85q/5kwAiqtyJ+vgJtXRIRW9ZtXW7wS73LM39Jkgrje/6SJBXG8JckqTCGvyRJhTH8JUkqjOEvSVJhDH9Jkgrz/wGBInJwkXG33gAAAABJRU5ErkJggg==\n"
          },
          "metadata": {
            "needs_background": "light"
          }
        }
      ],
      "source": [
        "# plot a visual representation\n",
        "plt.figure(figsize=(7, 7))\n",
        "sns.boxplot(data = df_users, x = 'language_preferred', y = 'time_spent_on_the_page', hue = 'converted')\n",
        "plt.title('User Distribution for Converted and Non-Converted Users by Language Preference')\n",
        "plt.xlabel('Preferred Language')\n",
        "plt.ylabel('Count')\n",
        "plt.show()\n",
        "\n",
        "pd.crosstab(df_users['converted'],\n",
        "            df_users['language_preferred'],\n",
        "            normalize='index').plot(kind=\"bar\", figsize=(6,8), \n",
        "            stacked = False)\n",
        "plt.title('User Distribution for Converted and Non-Converted Users by Language Preference')\n",
        "plt.xlabel('Preferred Language')\n",
        "plt.ylabel('Count')\n",
        "plt.legend()\n",
        "plt.show()\n",
        "\n"
      ],
      "id": "ENMh1-9iRAt2"
    },
    {
      "cell_type": "markdown",
      "metadata": {
        "id": "7FiefQj5EICP"
      },
      "source": [
        "**Step 1: Define the Null and Alternate hypotheses**"
      ],
      "id": "7FiefQj5EICP"
    },
    {
      "cell_type": "markdown",
      "metadata": {
        "id": "d-wy9pjxJxmo"
      },
      "source": [
        "Ho: Conversion and Preferred Language are independent.\n",
        "\n",
        "Ha: Conversion and Preferred Language are not independent."
      ],
      "id": "d-wy9pjxJxmo"
    },
    {
      "cell_type": "markdown",
      "metadata": {
        "id": "GqZOM2wPC9yJ"
      },
      "source": [
        "**Step 2: Selecting Appropriate test**"
      ],
      "id": "GqZOM2wPC9yJ"
    },
    {
      "cell_type": "markdown",
      "metadata": {
        "id": "Sfv3rnsRKlIN"
      },
      "source": [
        "We will use chi-square test of independence to determine whether the two categorical variables are related or independent.\n",
        "\n",
        "**Assumptions for Chi_square testing**\n",
        "\n",
        "The variables are categorical variables\n",
        "\n",
        "The expected frequency should be at least 5 counts.\n",
        "\n",
        "Independence of observations - Random sampling from Population"
      ],
      "id": "Sfv3rnsRKlIN"
    },
    {
      "cell_type": "markdown",
      "metadata": {
        "id": "RBOKF8ZlC9mJ"
      },
      "source": [
        "**Step 3: Deciding the significance level**"
      ],
      "id": "RBOKF8ZlC9mJ"
    },
    {
      "cell_type": "markdown",
      "metadata": {
        "id": "7DA4liMPE7J3"
      },
      "source": [
        "We will set our significance level to 0.05 because the objective is to compute and analyze at a significant level of 5%.\n",
        "\n",
        "Therefore, we select α = 0.05. "
      ],
      "id": "7DA4liMPE7J3"
    },
    {
      "cell_type": "code",
      "execution_count": 44,
      "metadata": {
        "id": "4DHS1E5mcDOC"
      },
      "outputs": [],
      "source": [
        "sig_level = 0.05"
      ],
      "id": "4DHS1E5mcDOC"
    },
    {
      "cell_type": "markdown",
      "metadata": {
        "id": "IUs9oItDC9a3"
      },
      "source": [
        "**Step 4: Collecting and preparing the data**"
      ],
      "id": "IUs9oItDC9a3"
    },
    {
      "cell_type": "code",
      "execution_count": 45,
      "metadata": {
        "colab": {
          "base_uri": "https://localhost:8080/",
          "height": 421
        },
        "id": "ZOR9fdaeLx85",
        "outputId": "830ae6d5-9f7e-48dc-d69a-1ac7a89ef341"
      },
      "outputs": [
        {
          "output_type": "execute_result",
          "data": {
            "text/plain": [
              "    user_id      group landing_page  time_spent_on_the_page converted  \\\n",
              "4    546459  treatment          new                    4.75       yes   \n",
              "47   546458  treatment          new                    7.23       yes   \n",
              "49   546473  treatment          new                   10.50       yes   \n",
              "14   546578    control          old                    8.72       yes   \n",
              "21   546584    control          old                    7.03       yes   \n",
              "71   546476  treatment          new                    5.42       yes   \n",
              "54   546482  treatment          new                    6.41       yes   \n",
              "52   546479  treatment          new                    6.47       yes   \n",
              "30   546464  treatment          new                    5.41       yes   \n",
              "48   546492  treatment          new                    8.08       yes   \n",
              "58   546562    control          old                    7.40       yes   \n",
              "15   546466  treatment          new                    6.27       yes   \n",
              "\n",
              "   language_preferred  \n",
              "4             Spanish  \n",
              "47            Spanish  \n",
              "49            English  \n",
              "14            Spanish  \n",
              "21            Spanish  \n",
              "71             French  \n",
              "54            Spanish  \n",
              "52            Spanish  \n",
              "30            English  \n",
              "48            Spanish  \n",
              "58             French  \n",
              "15            Spanish  "
            ],
            "text/html": [
              "\n",
              "  <div id=\"df-8dba7446-5570-47c8-9bf0-b350a20390bd\">\n",
              "    <div class=\"colab-df-container\">\n",
              "      <div>\n",
              "<style scoped>\n",
              "    .dataframe tbody tr th:only-of-type {\n",
              "        vertical-align: middle;\n",
              "    }\n",
              "\n",
              "    .dataframe tbody tr th {\n",
              "        vertical-align: top;\n",
              "    }\n",
              "\n",
              "    .dataframe thead th {\n",
              "        text-align: right;\n",
              "    }\n",
              "</style>\n",
              "<table border=\"1\" class=\"dataframe\">\n",
              "  <thead>\n",
              "    <tr style=\"text-align: right;\">\n",
              "      <th></th>\n",
              "      <th>user_id</th>\n",
              "      <th>group</th>\n",
              "      <th>landing_page</th>\n",
              "      <th>time_spent_on_the_page</th>\n",
              "      <th>converted</th>\n",
              "      <th>language_preferred</th>\n",
              "    </tr>\n",
              "  </thead>\n",
              "  <tbody>\n",
              "    <tr>\n",
              "      <th>4</th>\n",
              "      <td>546459</td>\n",
              "      <td>treatment</td>\n",
              "      <td>new</td>\n",
              "      <td>4.75</td>\n",
              "      <td>yes</td>\n",
              "      <td>Spanish</td>\n",
              "    </tr>\n",
              "    <tr>\n",
              "      <th>47</th>\n",
              "      <td>546458</td>\n",
              "      <td>treatment</td>\n",
              "      <td>new</td>\n",
              "      <td>7.23</td>\n",
              "      <td>yes</td>\n",
              "      <td>Spanish</td>\n",
              "    </tr>\n",
              "    <tr>\n",
              "      <th>49</th>\n",
              "      <td>546473</td>\n",
              "      <td>treatment</td>\n",
              "      <td>new</td>\n",
              "      <td>10.50</td>\n",
              "      <td>yes</td>\n",
              "      <td>English</td>\n",
              "    </tr>\n",
              "    <tr>\n",
              "      <th>14</th>\n",
              "      <td>546578</td>\n",
              "      <td>control</td>\n",
              "      <td>old</td>\n",
              "      <td>8.72</td>\n",
              "      <td>yes</td>\n",
              "      <td>Spanish</td>\n",
              "    </tr>\n",
              "    <tr>\n",
              "      <th>21</th>\n",
              "      <td>546584</td>\n",
              "      <td>control</td>\n",
              "      <td>old</td>\n",
              "      <td>7.03</td>\n",
              "      <td>yes</td>\n",
              "      <td>Spanish</td>\n",
              "    </tr>\n",
              "    <tr>\n",
              "      <th>71</th>\n",
              "      <td>546476</td>\n",
              "      <td>treatment</td>\n",
              "      <td>new</td>\n",
              "      <td>5.42</td>\n",
              "      <td>yes</td>\n",
              "      <td>French</td>\n",
              "    </tr>\n",
              "    <tr>\n",
              "      <th>54</th>\n",
              "      <td>546482</td>\n",
              "      <td>treatment</td>\n",
              "      <td>new</td>\n",
              "      <td>6.41</td>\n",
              "      <td>yes</td>\n",
              "      <td>Spanish</td>\n",
              "    </tr>\n",
              "    <tr>\n",
              "      <th>52</th>\n",
              "      <td>546479</td>\n",
              "      <td>treatment</td>\n",
              "      <td>new</td>\n",
              "      <td>6.47</td>\n",
              "      <td>yes</td>\n",
              "      <td>Spanish</td>\n",
              "    </tr>\n",
              "    <tr>\n",
              "      <th>30</th>\n",
              "      <td>546464</td>\n",
              "      <td>treatment</td>\n",
              "      <td>new</td>\n",
              "      <td>5.41</td>\n",
              "      <td>yes</td>\n",
              "      <td>English</td>\n",
              "    </tr>\n",
              "    <tr>\n",
              "      <th>48</th>\n",
              "      <td>546492</td>\n",
              "      <td>treatment</td>\n",
              "      <td>new</td>\n",
              "      <td>8.08</td>\n",
              "      <td>yes</td>\n",
              "      <td>Spanish</td>\n",
              "    </tr>\n",
              "    <tr>\n",
              "      <th>58</th>\n",
              "      <td>546562</td>\n",
              "      <td>control</td>\n",
              "      <td>old</td>\n",
              "      <td>7.40</td>\n",
              "      <td>yes</td>\n",
              "      <td>French</td>\n",
              "    </tr>\n",
              "    <tr>\n",
              "      <th>15</th>\n",
              "      <td>546466</td>\n",
              "      <td>treatment</td>\n",
              "      <td>new</td>\n",
              "      <td>6.27</td>\n",
              "      <td>yes</td>\n",
              "      <td>Spanish</td>\n",
              "    </tr>\n",
              "  </tbody>\n",
              "</table>\n",
              "</div>\n",
              "      <button class=\"colab-df-convert\" onclick=\"convertToInteractive('df-8dba7446-5570-47c8-9bf0-b350a20390bd')\"\n",
              "              title=\"Convert this dataframe to an interactive table.\"\n",
              "              style=\"display:none;\">\n",
              "        \n",
              "  <svg xmlns=\"http://www.w3.org/2000/svg\" height=\"24px\"viewBox=\"0 0 24 24\"\n",
              "       width=\"24px\">\n",
              "    <path d=\"M0 0h24v24H0V0z\" fill=\"none\"/>\n",
              "    <path d=\"M18.56 5.44l.94 2.06.94-2.06 2.06-.94-2.06-.94-.94-2.06-.94 2.06-2.06.94zm-11 1L8.5 8.5l.94-2.06 2.06-.94-2.06-.94L8.5 2.5l-.94 2.06-2.06.94zm10 10l.94 2.06.94-2.06 2.06-.94-2.06-.94-.94-2.06-.94 2.06-2.06.94z\"/><path d=\"M17.41 7.96l-1.37-1.37c-.4-.4-.92-.59-1.43-.59-.52 0-1.04.2-1.43.59L10.3 9.45l-7.72 7.72c-.78.78-.78 2.05 0 2.83L4 21.41c.39.39.9.59 1.41.59.51 0 1.02-.2 1.41-.59l7.78-7.78 2.81-2.81c.8-.78.8-2.07 0-2.86zM5.41 20L4 18.59l7.72-7.72 1.47 1.35L5.41 20z\"/>\n",
              "  </svg>\n",
              "      </button>\n",
              "      \n",
              "  <style>\n",
              "    .colab-df-container {\n",
              "      display:flex;\n",
              "      flex-wrap:wrap;\n",
              "      gap: 12px;\n",
              "    }\n",
              "\n",
              "    .colab-df-convert {\n",
              "      background-color: #E8F0FE;\n",
              "      border: none;\n",
              "      border-radius: 50%;\n",
              "      cursor: pointer;\n",
              "      display: none;\n",
              "      fill: #1967D2;\n",
              "      height: 32px;\n",
              "      padding: 0 0 0 0;\n",
              "      width: 32px;\n",
              "    }\n",
              "\n",
              "    .colab-df-convert:hover {\n",
              "      background-color: #E2EBFA;\n",
              "      box-shadow: 0px 1px 2px rgba(60, 64, 67, 0.3), 0px 1px 3px 1px rgba(60, 64, 67, 0.15);\n",
              "      fill: #174EA6;\n",
              "    }\n",
              "\n",
              "    [theme=dark] .colab-df-convert {\n",
              "      background-color: #3B4455;\n",
              "      fill: #D2E3FC;\n",
              "    }\n",
              "\n",
              "    [theme=dark] .colab-df-convert:hover {\n",
              "      background-color: #434B5C;\n",
              "      box-shadow: 0px 1px 3px 1px rgba(0, 0, 0, 0.15);\n",
              "      filter: drop-shadow(0px 1px 2px rgba(0, 0, 0, 0.3));\n",
              "      fill: #FFFFFF;\n",
              "    }\n",
              "  </style>\n",
              "\n",
              "      <script>\n",
              "        const buttonEl =\n",
              "          document.querySelector('#df-8dba7446-5570-47c8-9bf0-b350a20390bd button.colab-df-convert');\n",
              "        buttonEl.style.display =\n",
              "          google.colab.kernel.accessAllowed ? 'block' : 'none';\n",
              "\n",
              "        async function convertToInteractive(key) {\n",
              "          const element = document.querySelector('#df-8dba7446-5570-47c8-9bf0-b350a20390bd');\n",
              "          const dataTable =\n",
              "            await google.colab.kernel.invokeFunction('convertToInteractive',\n",
              "                                                     [key], {});\n",
              "          if (!dataTable) return;\n",
              "\n",
              "          const docLinkHtml = 'Like what you see? Visit the ' +\n",
              "            '<a target=\"_blank\" href=https://colab.research.google.com/notebooks/data_table.ipynb>data table notebook</a>'\n",
              "            + ' to learn more about interactive tables.';\n",
              "          element.innerHTML = '';\n",
              "          dataTable['output_type'] = 'display_data';\n",
              "          await google.colab.output.renderOutput(dataTable, element);\n",
              "          const docLink = document.createElement('div');\n",
              "          docLink.innerHTML = docLinkHtml;\n",
              "          element.appendChild(docLink);\n",
              "        }\n",
              "      </script>\n",
              "    </div>\n",
              "  </div>\n",
              "  "
            ]
          },
          "metadata": {},
          "execution_count": 45
        }
      ],
      "source": [
        "users_con = df_users[df_users['converted'] == 'yes']\n",
        "users_con.sample(12)"
      ],
      "id": "ZOR9fdaeLx85"
    },
    {
      "cell_type": "code",
      "execution_count": 46,
      "metadata": {
        "colab": {
          "base_uri": "https://localhost:8080/",
          "height": 142
        },
        "id": "qA_MTNINQeZ-",
        "outputId": "df68539f-7628-4452-81fd-b373f065644f"
      },
      "outputs": [
        {
          "output_type": "execute_result",
          "data": {
            "text/plain": [
              "language_preferred  English  French  Spanish\n",
              "converted                                   \n",
              "no                       11      19       16\n",
              "yes                      21      15       18"
            ],
            "text/html": [
              "\n",
              "  <div id=\"df-7fd77d7f-3c90-4659-91df-b2018a0ef781\">\n",
              "    <div class=\"colab-df-container\">\n",
              "      <div>\n",
              "<style scoped>\n",
              "    .dataframe tbody tr th:only-of-type {\n",
              "        vertical-align: middle;\n",
              "    }\n",
              "\n",
              "    .dataframe tbody tr th {\n",
              "        vertical-align: top;\n",
              "    }\n",
              "\n",
              "    .dataframe thead th {\n",
              "        text-align: right;\n",
              "    }\n",
              "</style>\n",
              "<table border=\"1\" class=\"dataframe\">\n",
              "  <thead>\n",
              "    <tr style=\"text-align: right;\">\n",
              "      <th>language_preferred</th>\n",
              "      <th>English</th>\n",
              "      <th>French</th>\n",
              "      <th>Spanish</th>\n",
              "    </tr>\n",
              "    <tr>\n",
              "      <th>converted</th>\n",
              "      <th></th>\n",
              "      <th></th>\n",
              "      <th></th>\n",
              "    </tr>\n",
              "  </thead>\n",
              "  <tbody>\n",
              "    <tr>\n",
              "      <th>no</th>\n",
              "      <td>11</td>\n",
              "      <td>19</td>\n",
              "      <td>16</td>\n",
              "    </tr>\n",
              "    <tr>\n",
              "      <th>yes</th>\n",
              "      <td>21</td>\n",
              "      <td>15</td>\n",
              "      <td>18</td>\n",
              "    </tr>\n",
              "  </tbody>\n",
              "</table>\n",
              "</div>\n",
              "      <button class=\"colab-df-convert\" onclick=\"convertToInteractive('df-7fd77d7f-3c90-4659-91df-b2018a0ef781')\"\n",
              "              title=\"Convert this dataframe to an interactive table.\"\n",
              "              style=\"display:none;\">\n",
              "        \n",
              "  <svg xmlns=\"http://www.w3.org/2000/svg\" height=\"24px\"viewBox=\"0 0 24 24\"\n",
              "       width=\"24px\">\n",
              "    <path d=\"M0 0h24v24H0V0z\" fill=\"none\"/>\n",
              "    <path d=\"M18.56 5.44l.94 2.06.94-2.06 2.06-.94-2.06-.94-.94-2.06-.94 2.06-2.06.94zm-11 1L8.5 8.5l.94-2.06 2.06-.94-2.06-.94L8.5 2.5l-.94 2.06-2.06.94zm10 10l.94 2.06.94-2.06 2.06-.94-2.06-.94-.94-2.06-.94 2.06-2.06.94z\"/><path d=\"M17.41 7.96l-1.37-1.37c-.4-.4-.92-.59-1.43-.59-.52 0-1.04.2-1.43.59L10.3 9.45l-7.72 7.72c-.78.78-.78 2.05 0 2.83L4 21.41c.39.39.9.59 1.41.59.51 0 1.02-.2 1.41-.59l7.78-7.78 2.81-2.81c.8-.78.8-2.07 0-2.86zM5.41 20L4 18.59l7.72-7.72 1.47 1.35L5.41 20z\"/>\n",
              "  </svg>\n",
              "      </button>\n",
              "      \n",
              "  <style>\n",
              "    .colab-df-container {\n",
              "      display:flex;\n",
              "      flex-wrap:wrap;\n",
              "      gap: 12px;\n",
              "    }\n",
              "\n",
              "    .colab-df-convert {\n",
              "      background-color: #E8F0FE;\n",
              "      border: none;\n",
              "      border-radius: 50%;\n",
              "      cursor: pointer;\n",
              "      display: none;\n",
              "      fill: #1967D2;\n",
              "      height: 32px;\n",
              "      padding: 0 0 0 0;\n",
              "      width: 32px;\n",
              "    }\n",
              "\n",
              "    .colab-df-convert:hover {\n",
              "      background-color: #E2EBFA;\n",
              "      box-shadow: 0px 1px 2px rgba(60, 64, 67, 0.3), 0px 1px 3px 1px rgba(60, 64, 67, 0.15);\n",
              "      fill: #174EA6;\n",
              "    }\n",
              "\n",
              "    [theme=dark] .colab-df-convert {\n",
              "      background-color: #3B4455;\n",
              "      fill: #D2E3FC;\n",
              "    }\n",
              "\n",
              "    [theme=dark] .colab-df-convert:hover {\n",
              "      background-color: #434B5C;\n",
              "      box-shadow: 0px 1px 3px 1px rgba(0, 0, 0, 0.15);\n",
              "      filter: drop-shadow(0px 1px 2px rgba(0, 0, 0, 0.3));\n",
              "      fill: #FFFFFF;\n",
              "    }\n",
              "  </style>\n",
              "\n",
              "      <script>\n",
              "        const buttonEl =\n",
              "          document.querySelector('#df-7fd77d7f-3c90-4659-91df-b2018a0ef781 button.colab-df-convert');\n",
              "        buttonEl.style.display =\n",
              "          google.colab.kernel.accessAllowed ? 'block' : 'none';\n",
              "\n",
              "        async function convertToInteractive(key) {\n",
              "          const element = document.querySelector('#df-7fd77d7f-3c90-4659-91df-b2018a0ef781');\n",
              "          const dataTable =\n",
              "            await google.colab.kernel.invokeFunction('convertToInteractive',\n",
              "                                                     [key], {});\n",
              "          if (!dataTable) return;\n",
              "\n",
              "          const docLinkHtml = 'Like what you see? Visit the ' +\n",
              "            '<a target=\"_blank\" href=https://colab.research.google.com/notebooks/data_table.ipynb>data table notebook</a>'\n",
              "            + ' to learn more about interactive tables.';\n",
              "          element.innerHTML = '';\n",
              "          dataTable['output_type'] = 'display_data';\n",
              "          await google.colab.output.renderOutput(dataTable, element);\n",
              "          const docLink = document.createElement('div');\n",
              "          docLink.innerHTML = docLinkHtml;\n",
              "          element.appendChild(docLink);\n",
              "        }\n",
              "      </script>\n",
              "    </div>\n",
              "  </div>\n",
              "  "
            ]
          },
          "metadata": {},
          "execution_count": 46
        }
      ],
      "source": [
        "# create a contingency table showing the distribution of the two categorical variables\n",
        "contingency_table = pd.crosstab(df_users['converted'], df_users['language_preferred'])  \n",
        "\n",
        "contingency_table"
      ],
      "id": "qA_MTNINQeZ-"
    },
    {
      "cell_type": "markdown",
      "metadata": {
        "id": "fVzdjgwfC9Ri"
      },
      "source": [
        "**Step 5: Calculate the p-value**"
      ],
      "id": "fVzdjgwfC9Ri"
    },
    {
      "cell_type": "code",
      "execution_count": 47,
      "metadata": {
        "colab": {
          "base_uri": "https://localhost:8080/"
        },
        "id": "qLrUSTQ0LjBv",
        "outputId": "d4267841-d382-47a8-fe21-d3f787398dbb"
      },
      "outputs": [
        {
          "output_type": "stream",
          "name": "stdout",
          "text": [
            "0.21298887487543447\n"
          ]
        }
      ],
      "source": [
        "from scipy.stats import chi2_contingency # chi-square test of independence\n",
        "\n",
        "# calculte the observed results with expected results\n",
        "\n",
        "chi,p_value3, dof, expected = chi2_contingency(contingency_table)\n",
        "print(p_value3)"
      ],
      "id": "qLrUSTQ0LjBv"
    },
    {
      "cell_type": "markdown",
      "metadata": {
        "id": "LhQ28_ggQVUA"
      },
      "source": [
        "**Step 6: Compare the p-value with α**\n"
      ],
      "id": "LhQ28_ggQVUA"
    },
    {
      "cell_type": "code",
      "execution_count": 48,
      "metadata": {
        "colab": {
          "base_uri": "https://localhost:8080/"
        },
        "id": "a0Z30NYahHnA",
        "outputId": "7260b5ec-4bdf-416b-8f7e-f106eb87af12"
      },
      "outputs": [
        {
          "output_type": "stream",
          "name": "stdout",
          "text": [
            "As the p-value 0.21298887487543447 is greater than the level of significance, we fail to reject the null hypothesis.\n"
          ]
        }
      ],
      "source": [
        "# call function to compare the p-value of the analysis\n",
        "compare_pvalue(p_value3)"
      ],
      "id": "a0Z30NYahHnA"
    },
    {
      "cell_type": "markdown",
      "metadata": {
        "id": "yLPsv7tAD2Ej"
      },
      "source": [
        "**Step 7: Draw inference**\n",
        "\n",
        "As the p-value (0.21) is greater than the level of significance (0.05), there is not enough statistical evidence to reject the null hypothesis. Hence, there is not enough statistical evidence indicate a significant relationship between the conversion rate and preferred language."
      ],
      "id": "yLPsv7tAD2Ej"
    },
    {
      "cell_type": "markdown",
      "metadata": {
        "id": "8d585a90"
      },
      "source": [
        "## 4. Is the time spent on the new page same for the different language users?"
      ],
      "id": "8d585a90"
    },
    {
      "cell_type": "code",
      "execution_count": 49,
      "metadata": {
        "colab": {
          "base_uri": "https://localhost:8080/"
        },
        "id": "XFZUUWenjPcr",
        "outputId": "4c9d406f-2580-442f-d29e-5cb2ed5c18e3"
      },
      "outputs": [
        {
          "output_type": "execute_result",
          "data": {
            "text/plain": [
              "language_preferred\n",
              "English    6.663750\n",
              "French     6.196471\n",
              "Spanish    5.835294\n",
              "Name: time_spent_on_the_page, dtype: float64"
            ]
          },
          "metadata": {},
          "execution_count": 49
        }
      ],
      "source": [
        "#calculate the mean time spent on the new page for different language users\n",
        "users_new_page.groupby(['language_preferred'])['time_spent_on_the_page'].mean()"
      ],
      "id": "XFZUUWenjPcr"
    },
    {
      "cell_type": "code",
      "execution_count": 50,
      "metadata": {
        "colab": {
          "base_uri": "https://localhost:8080/"
        },
        "id": "LaV2kbjYE1P2",
        "outputId": "e75a4765-b3b4-4d19-b388-c9a63a9cb7a6"
      },
      "outputs": [
        {
          "output_type": "execute_result",
          "data": {
            "text/plain": [
              "language_preferred\n",
              "English    1.984150\n",
              "French     1.933394\n",
              "Spanish    1.525656\n",
              "Name: time_spent_on_the_page, dtype: float64"
            ]
          },
          "metadata": {},
          "execution_count": 50
        }
      ],
      "source": [
        "#calculate the std on the new page for different language users\n",
        "users_new_page.groupby(['language_preferred'])['time_spent_on_the_page'].std()"
      ],
      "id": "LaV2kbjYE1P2"
    },
    {
      "cell_type": "code",
      "execution_count": 51,
      "metadata": {
        "colab": {
          "base_uri": "https://localhost:8080/"
        },
        "id": "6Eq97anQUuHf",
        "outputId": "6faf601c-9264-439a-a900-61e644d8b572"
      },
      "outputs": [
        {
          "output_type": "stream",
          "name": "stdout",
          "text": [
            "The sample mean for time spent on the new landing page by users who have a preference for English is 6.66\n",
            "The sample mean for time spent on the new landing page by users who have a preference for French is 6.2\n",
            "The sample mean for time spent on the new landing page by users who have a preference for Spanish is 5.84\n",
            "The standard Deviation for time spent on the new landing page by users who have a preference for English is 1.98\n",
            "The standard Deviation for time spent on the new landing page by users who have a preference for French  is 1.93\n",
            "The standard Deviation for time spent on the new landing page by users who have a preference for Spanish is 1.53\n"
          ]
        }
      ],
      "source": [
        "# create data frame for language preference and check both their sample means and std\n",
        "users_prefer_english = users_new_page[users_new_page['language_preferred'] == 'English']\n",
        "users_prefer_french = users_new_page[users_new_page['language_preferred'] == 'French']\n",
        "users_prefer_spanish = users_new_page[users_new_page['language_preferred'] == 'Spanish']\n",
        "print('The sample mean for time spent on the new landing page by users who have a preference for English is', round(users_prefer_english.time_spent_on_the_page.mean(),2))\n",
        "print('The sample mean for time spent on the new landing page by users who have a preference for French is',round(users_prefer_french.time_spent_on_the_page.mean(),2))\n",
        "print('The sample mean for time spent on the new landing page by users who have a preference for Spanish is',round(users_prefer_spanish.time_spent_on_the_page.mean(),2))\n",
        "print('The standard Deviation for time spent on the new landing page by users who have a preference for English is',round(users_prefer_english.time_spent_on_the_page.std(),2))\n",
        "print('The standard Deviation for time spent on the new landing page by users who have a preference for French  is',round(users_prefer_french.time_spent_on_the_page.std(),2))\n",
        "print('The standard Deviation for time spent on the new landing page by users who have a preference for Spanish is',round(users_prefer_spanish.time_spent_on_the_page.std(),2))\n"
      ],
      "id": "6Eq97anQUuHf"
    },
    {
      "cell_type": "markdown",
      "metadata": {
        "id": "5WYaYlfMC64B"
      },
      "source": [
        "**Perform Visual Analysis**"
      ],
      "id": "5WYaYlfMC64B"
    },
    {
      "cell_type": "code",
      "execution_count": 52,
      "metadata": {
        "colab": {
          "base_uri": "https://localhost:8080/",
          "height": 295
        },
        "id": "NeQIZnF61Ny4",
        "outputId": "a2f3e8d2-e994-4a45-cb3d-05bd95d6cf40"
      },
      "outputs": [
        {
          "output_type": "display_data",
          "data": {
            "text/plain": [
              "<Figure size 432x288 with 1 Axes>"
            ],
            "image/png": "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\n"
          },
          "metadata": {
            "needs_background": "light"
          }
        }
      ],
      "source": [
        "# plot a visual representation\n",
        "sns.boxplot(data = users_new_page, x = 'language_preferred', y = 'time_spent_on_the_page')\n",
        "plt.title('Distribution of Preferred Language of Converted Users')\n",
        "plt.xlabel('Preferred Language')\n",
        "plt.ylabel('Count')\n",
        "plt.show()"
      ],
      "id": "NeQIZnF61Ny4"
    },
    {
      "cell_type": "markdown",
      "metadata": {
        "id": "MoSq95ofC6qj"
      },
      "source": [
        "**Step 1: Define bold text the Null and Alternate hypotheses** "
      ],
      "id": "MoSq95ofC6qj"
    },
    {
      "cell_type": "markdown",
      "metadata": {
        "id": "RXWEBM9JK8BL"
      },
      "source": [
        "Let µ1,  µ2, µ3 be the means of converted users who prefer English, French and Spanish respectively.\n",
        "\n",
        "The sample means amongst converted users are the same, regardless of language preference.\n",
        "\n",
        "H0: µ1 =  µ2 = µ3\n",
        "\n",
        "When language choice is taken into account, at least a sample mean among converted users differs from the remainder.\n",
        "\n",
        "Ha: (µ1 !=  µ2 = µ3)| (µ1 =  µ2 != µ3)"
      ],
      "id": "RXWEBM9JK8BL"
    },
    {
      "cell_type": "markdown",
      "metadata": {
        "id": "R7NKT-6hC6d2"
      },
      "source": [
        "**Step 2: Selecting Appropriate test**"
      ],
      "id": "R7NKT-6hC6d2"
    },
    {
      "cell_type": "markdown",
      "metadata": {
        "id": "LW0R72y0GUqT"
      },
      "source": [
        "The ANOVA test will be used to compare the means of users according to their preferred languages in order to determine whether or not their language preference has an impact on their likelihood of converting or not, as we are attempting to test for group-to-group variation.\n",
        "\n",
        "**Assumptions for ANOVA testing**\n",
        "\n",
        "These assumptions need to be satisfied in order to use the ANOVA\n",
        "\n",
        "The populations are normally distributed (we will use the wilke Shapiro to test for nomality) .\n",
        "\n",
        "Samples are independent.\n",
        "\n",
        "The population variance are equal (we will test equality of variance with Levene Test).\n"
      ],
      "id": "LW0R72y0GUqT"
    },
    {
      "cell_type": "markdown",
      "metadata": {
        "id": "C4SZC1rMC6RH"
      },
      "source": [
        "**Step 3: Deciding the significance level**"
      ],
      "id": "C4SZC1rMC6RH"
    },
    {
      "cell_type": "markdown",
      "metadata": {
        "id": "bwSxGdJkE_e7"
      },
      "source": [
        "We will set our significance level to 0.05 because the objective is to compute and analyze at a significant level of 5%.\n",
        "\n",
        "Therefore, we select α = 0.05. "
      ],
      "id": "bwSxGdJkE_e7"
    },
    {
      "cell_type": "code",
      "execution_count": 53,
      "metadata": {
        "id": "q29p4GVeaBGN"
      },
      "outputs": [],
      "source": [
        "sig_level = 0.05"
      ],
      "id": "q29p4GVeaBGN"
    },
    {
      "cell_type": "markdown",
      "metadata": {
        "id": "fjy75a4UC6D8"
      },
      "source": [
        "**Step 4: Collecting and preparing the data**"
      ],
      "id": "fjy75a4UC6D8"
    },
    {
      "cell_type": "markdown",
      "metadata": {
        "id": "B8jDLFaZMwqx"
      },
      "source": [
        "Null and alternative Hypothesis to test for normality.\n",
        "\n",
        "\n",
        "**Ho: The distribution of time spent on a page is normal.**\n",
        "\n",
        "**Ha: The time spent on each page does not have a normal distribution.**\n"
      ],
      "id": "B8jDLFaZMwqx"
    },
    {
      "cell_type": "code",
      "execution_count": 54,
      "metadata": {
        "colab": {
          "base_uri": "https://localhost:8080/"
        },
        "id": "VP3iUlyMv2Si",
        "outputId": "2c520c0c-1c68-4608-d457-58f11ddc3e7f"
      },
      "outputs": [
        {
          "output_type": "stream",
          "name": "stdout",
          "text": [
            "0.8040016293525696\n"
          ]
        }
      ],
      "source": [
        "# first test for normality with the wilke Shapiro test\n",
        "\n",
        "from scipy import stats\n",
        "\n",
        "# calculate wilke Shapiro test & p-value\n",
        "w, p_value4 = stats.shapiro(users_new_page['time_spent_on_the_page'])\n",
        "print(p_value4)"
      ],
      "id": "VP3iUlyMv2Si"
    },
    {
      "cell_type": "code",
      "execution_count": 55,
      "metadata": {
        "colab": {
          "base_uri": "https://localhost:8080/"
        },
        "id": "_iTN81JhhMcN",
        "outputId": "3cb2aa54-7c66-4124-f295-6a447aef8ef6"
      },
      "outputs": [
        {
          "output_type": "stream",
          "name": "stdout",
          "text": [
            "As the p-value 0.8040016293525696 is greater than the level of significance, we fail to reject the null hypothesis.\n"
          ]
        }
      ],
      "source": [
        "# call function to compare the p-value of the analysis\n",
        "compare_pvalue(p_value4)"
      ],
      "id": "_iTN81JhhMcN"
    },
    {
      "cell_type": "markdown",
      "metadata": {
        "id": "udJLcFl8N8f2"
      },
      "source": [
        "As the p-value is greater than the level of significance (0.05), we do not have enough statistical evidence to reject the null hypothesis that time spent on the page follows a normal distribution."
      ],
      "id": "udJLcFl8N8f2"
    },
    {
      "cell_type": "markdown",
      "metadata": {
        "id": "3Q_0hegviTbt"
      },
      "source": [
        "Test for equality of variance\n",
        "\n",
        "    Ho: There is no difference in population variation.\n",
        "\n",
        "    Ha: One variation in the population is different from the others.\n",
        "\n",
        "\n"
      ],
      "id": "3Q_0hegviTbt"
    },
    {
      "cell_type": "code",
      "execution_count": 56,
      "metadata": {
        "colab": {
          "base_uri": "https://localhost:8080/"
        },
        "id": "TutgXOwbwPcb",
        "outputId": "ad622cf8-d35b-4db9-b44d-bc6eb34cf7c6"
      },
      "outputs": [
        {
          "output_type": "stream",
          "name": "stdout",
          "text": [
            "0.46711357711340173\n"
          ]
        }
      ],
      "source": [
        "# test for equality of variance\n",
        "\n",
        "from scipy.stats import levene\n",
        "\n",
        "statistics, p_value5 = levene (users_new_page['time_spent_on_the_page'][users_new_page['language_preferred']== 'English'],\n",
        "                              users_new_page['time_spent_on_the_page'][users_new_page['language_preferred']== 'French'],\n",
        "                              users_new_page['time_spent_on_the_page'][users_new_page['language_preferred']== 'Spanish']\n",
        "                              )\n",
        "\n",
        "print(p_value5)"
      ],
      "id": "TutgXOwbwPcb"
    },
    {
      "cell_type": "code",
      "execution_count": 57,
      "metadata": {
        "colab": {
          "base_uri": "https://localhost:8080/"
        },
        "id": "uKnsVKMefoP8",
        "outputId": "a3b38697-02db-4027-d823-31b4b3915e27"
      },
      "outputs": [
        {
          "output_type": "stream",
          "name": "stdout",
          "text": [
            "As the p-value 0.46711357711340173 is greater than the level of significance, we fail to reject the null hypothesis.\n"
          ]
        }
      ],
      "source": [
        "# call function to compare the p-value of the analysis\n",
        "compare_pvalue(p_value5)"
      ],
      "id": "uKnsVKMefoP8"
    },
    {
      "cell_type": "markdown",
      "metadata": {
        "id": "yPTzvn2Whyz0"
      },
      "source": [
        "As the p-value is greater than the level of significance (0.05), we do not have enough statistical evidence to reject the null hypothesis. Thus, we do not enough statistical evidence to refute the equality of variance. "
      ],
      "id": "yPTzvn2Whyz0"
    },
    {
      "cell_type": "markdown",
      "metadata": {
        "id": "Uuu-aNFeC5z7"
      },
      "source": [
        "**Step 5: Calculate the p-value**"
      ],
      "id": "Uuu-aNFeC5z7"
    },
    {
      "cell_type": "code",
      "execution_count": 58,
      "metadata": {
        "colab": {
          "base_uri": "https://localhost:8080/"
        },
        "id": "kci_iJWoT_pl",
        "outputId": "0053a46e-a0a0-4007-fc44-819358ebbe92"
      },
      "outputs": [
        {
          "output_type": "stream",
          "name": "stdout",
          "text": [
            "0.43204138694325955\n"
          ]
        }
      ],
      "source": [
        "#Anova test f-distribution\n",
        "\n",
        "from scipy.stats import f_oneway\n",
        "\n",
        "test_stat, p_value6 = f_oneway(users_new_page.loc[users_new_page['language_preferred']== 'English', 'time_spent_on_the_page'],\n",
        "                              users_new_page.loc[users_new_page['language_preferred']== 'French', 'time_spent_on_the_page'],\n",
        "                              users_new_page.loc[users_new_page['language_preferred']== 'Spanish', 'time_spent_on_the_page'])\n",
        "\n",
        "print(str(p_value6))"
      ],
      "id": "kci_iJWoT_pl"
    },
    {
      "cell_type": "markdown",
      "metadata": {
        "id": "gNTxlpMvO_Ap"
      },
      "source": [
        "**Step 6: Compare the p-value**"
      ],
      "id": "gNTxlpMvO_Ap"
    },
    {
      "cell_type": "code",
      "execution_count": 59,
      "metadata": {
        "colab": {
          "base_uri": "https://localhost:8080/"
        },
        "id": "zxu7E6EkhWVJ",
        "outputId": "be615846-60e8-41b9-bc8d-919a281afa96"
      },
      "outputs": [
        {
          "output_type": "stream",
          "name": "stdout",
          "text": [
            "As the p-value 0.43204138694325955 is greater than the level of significance, we fail to reject the null hypothesis.\n"
          ]
        }
      ],
      "source": [
        "# call function to compare the p-value of the analysis\n",
        "compare_pvalue(p_value6)"
      ],
      "id": "zxu7E6EkhWVJ"
    },
    {
      "cell_type": "code",
      "execution_count": 60,
      "metadata": {
        "colab": {
          "base_uri": "https://localhost:8080/"
        },
        "id": "rp4EVYVwyu8V",
        "outputId": "d694fc64-04e7-4797-e8cf-74a2a6b39093"
      },
      "outputs": [
        {
          "output_type": "stream",
          "name": "stdout",
          "text": [
            " Multiple Comparison of Means - Tukey HSD, FWER=0.05 \n",
            "=====================================================\n",
            " group1  group2 meandiff p-adj   lower  upper  reject\n",
            "-----------------------------------------------------\n",
            "English  French  -0.4673 0.7259 -2.0035  1.069  False\n",
            "English Spanish  -0.8285  0.401 -2.3647 0.7078  False\n",
            " French Spanish  -0.3612  0.816  -1.874 1.1516  False\n",
            "-----------------------------------------------------\n"
          ]
        }
      ],
      "source": [
        "# we could also perform a test for multiple comparison of means\n",
        "\n",
        "from statsmodels.stats.multicomp import pairwise_tukeyhsd\n",
        "\n",
        "m_comp = pairwise_tukeyhsd(endog = users_new_page['time_spent_on_the_page'], \n",
        "                           groups = users_new_page['language_preferred'], alpha = 0.05)\n",
        "\n",
        "print(m_comp)"
      ],
      "id": "rp4EVYVwyu8V"
    },
    {
      "cell_type": "markdown",
      "metadata": {
        "id": "TJa5r-RaC5hW"
      },
      "source": [
        "**Step 7: Draw inference**\n",
        "\n",
        "Since the p-value (0.866) is greater than the level of significance of (0.05), we fail to reject the null hypothesis. Therefore, there is sufficient statistical evidence to support the null hypothesis that each language user spends the same amount of time on the new landing Page.\n",
        "\n",
        "The multiple comparison test (Tukey) was used to further confirm this and revealed no statistically significant relationship between users' language preference and time spent on the page."
      ],
      "id": "TJa5r-RaC5hW"
    },
    {
      "cell_type": "markdown",
      "metadata": {
        "id": "3acbc947"
      },
      "source": [
        "## Conclusion and Business Recommendations"
      ],
      "id": "3acbc947"
    },
    {
      "cell_type": "markdown",
      "metadata": {
        "id": "21fb1063"
      },
      "source": [
        "\n",
        "1.   Users remained on the new landing page longer on average (6.22 minutes) than they did on the existing landing page (4.53 minutes), with standard deviations of 1.82 and 2.58 minutes, respectively. Users tend to spend more time on the new landing page than they do on the existing one.This was further demonstrated by statistical evidence that supports the assumption that time spent on the new landing page is greater than time spent on the existing landing page.\n",
        "\n",
        "2.   Each of the landing pages, both new and existing had 50 visitors. 33 users converted on the new landing page as opposed to the existing landing page with 21 conversions. The new landing page seems to converts at a higher rate than the existing landing page. The statistical study does support that assumpion and shows a significant difference in the conversion rate between the new landing page and the existing landing page. \n",
        "\n",
        "3.  The number of people who converted was 18 out of 34 for Spanish, 21 out of 32 for English, and 15 out of 34 for French. However, because there is no statistically significant correlation between conversion rate and preferred language, users' preferred languages do not have a major impact on conversion rates.\n",
        "\n",
        "4.   The average time spent on a new landing page by users who prefer English is 6.66 minutes, 6.20 minutes for users who prefer French, and 5.84 minutes for users who prefer Spanish, with standard deviations in minutes of 1.98, 1.93, and 1.53 respectively. However, according to statistical analysis, the amount of time spent on the new page by users of different languages does not appear to differ significantly; as a result, each user, regardless of language, spends the same amount of time on the new landing Page.\n",
        "\n",
        "5.   This analysis supports the executives' claim that existing website is not properly designed in ‘terms of the outline and recommended content’ to keep users engaged long enough to commit to subscribing.\n",
        "\n",
        "6.   The new landing page has improved user engagement and will likely increase the number of new website subscribers.\n",
        "\n",
        "\n",
        "\n",
        "\n",
        "\n",
        "\n",
        "\n",
        "\n",
        "\n",
        "\n",
        "  \n",
        "\n",
        "\n"
      ],
      "id": "21fb1063"
    },
    {
      "cell_type": "markdown",
      "metadata": {
        "id": "U0dAd4i0iCHo"
      },
      "source": [
        "___"
      ],
      "id": "U0dAd4i0iCHo"
    }
  ],
  "metadata": {
    "colab": {
      "collapsed_sections": [
        "9Vt1PLLqmXNn"
      ],
      "provenance": []
    },
    "kernelspec": {
      "display_name": "Python 3",
      "language": "python",
      "name": "python3"
    },
    "language_info": {
      "codemirror_mode": {
        "name": "ipython",
        "version": 3
      },
      "file_extension": ".py",
      "mimetype": "text/x-python",
      "name": "python",
      "nbconvert_exporter": "python",
      "pygments_lexer": "ipython3",
      "version": "3.8.8"
    }
  },
  "nbformat": 4,
  "nbformat_minor": 5
}
